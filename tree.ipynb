{
 "cells": [
  {
   "cell_type": "markdown",
   "metadata": {},
   "source": [
    "# Import libraries"
   ]
  },
  {
   "cell_type": "code",
   "execution_count": 1,
   "metadata": {},
   "outputs": [],
   "source": [
    "%matplotlib inline\n",
    "\n",
    "import pandas as pd\n",
    "import numpy as np\n",
    "import matplotlib.pyplot as plt"
   ]
  },
  {
   "cell_type": "markdown",
   "metadata": {},
   "source": [
    "# Load data"
   ]
  },
  {
   "cell_type": "markdown",
   "metadata": {},
   "source": [
    "https://www.kaggle.com/blastchar/telco-customer-churn#WA_Fn-UseC_-Telco-Customer-Churn.csv"
   ]
  },
  {
   "cell_type": "code",
   "execution_count": 2,
   "metadata": {},
   "outputs": [],
   "source": [
    "df = pd.read_csv('Data/telco_customer_churn.csv', sep=',')"
   ]
  },
  {
   "cell_type": "code",
   "execution_count": 3,
   "metadata": {},
   "outputs": [
    {
     "data": {
      "text/plain": [
       "Index(['customerID', 'gender', 'SeniorCitizen', 'Partner', 'Dependents',\n",
       "       'tenure', 'PhoneService', 'MultipleLines', 'InternetService',\n",
       "       'OnlineSecurity', 'OnlineBackup', 'DeviceProtection', 'TechSupport',\n",
       "       'StreamingTV', 'StreamingMovies', 'Contract', 'PaperlessBilling',\n",
       "       'PaymentMethod', 'MonthlyCharges', 'TotalCharges', 'Churn'],\n",
       "      dtype='object')"
      ]
     },
     "execution_count": 3,
     "metadata": {},
     "output_type": "execute_result"
    }
   ],
   "source": [
    "df.columns"
   ]
  },
  {
   "cell_type": "code",
   "execution_count": 4,
   "metadata": {},
   "outputs": [
    {
     "data": {
      "text/plain": [
       "(7032, 21)"
      ]
     },
     "execution_count": 4,
     "metadata": {},
     "output_type": "execute_result"
    }
   ],
   "source": [
    "df.shape"
   ]
  },
  {
   "cell_type": "markdown",
   "metadata": {},
   "source": [
    "# Data preprocessing / Feature engineering"
   ]
  },
  {
   "cell_type": "markdown",
   "metadata": {},
   "source": [
    "#### Select variables"
   ]
  },
  {
   "cell_type": "markdown",
   "metadata": {},
   "source": [
    "### Initial look at the data"
   ]
  },
  {
   "cell_type": "code",
   "execution_count": 5,
   "metadata": {},
   "outputs": [
    {
     "data": {
      "text/html": [
       "<div>\n",
       "<style scoped>\n",
       "    .dataframe tbody tr th:only-of-type {\n",
       "        vertical-align: middle;\n",
       "    }\n",
       "\n",
       "    .dataframe tbody tr th {\n",
       "        vertical-align: top;\n",
       "    }\n",
       "\n",
       "    .dataframe thead th {\n",
       "        text-align: right;\n",
       "    }\n",
       "</style>\n",
       "<table border=\"1\" class=\"dataframe\">\n",
       "  <thead>\n",
       "    <tr style=\"text-align: right;\">\n",
       "      <th></th>\n",
       "      <th>customerID</th>\n",
       "      <th>gender</th>\n",
       "      <th>SeniorCitizen</th>\n",
       "      <th>Partner</th>\n",
       "      <th>Dependents</th>\n",
       "      <th>tenure</th>\n",
       "      <th>PhoneService</th>\n",
       "      <th>MultipleLines</th>\n",
       "      <th>InternetService</th>\n",
       "      <th>OnlineSecurity</th>\n",
       "      <th>...</th>\n",
       "      <th>DeviceProtection</th>\n",
       "      <th>TechSupport</th>\n",
       "      <th>StreamingTV</th>\n",
       "      <th>StreamingMovies</th>\n",
       "      <th>Contract</th>\n",
       "      <th>PaperlessBilling</th>\n",
       "      <th>PaymentMethod</th>\n",
       "      <th>MonthlyCharges</th>\n",
       "      <th>TotalCharges</th>\n",
       "      <th>Churn</th>\n",
       "    </tr>\n",
       "  </thead>\n",
       "  <tbody>\n",
       "    <tr>\n",
       "      <th>0</th>\n",
       "      <td>7590-VHVEG</td>\n",
       "      <td>Female</td>\n",
       "      <td>0</td>\n",
       "      <td>Yes</td>\n",
       "      <td>No</td>\n",
       "      <td>1</td>\n",
       "      <td>No</td>\n",
       "      <td>No phone service</td>\n",
       "      <td>DSL</td>\n",
       "      <td>No</td>\n",
       "      <td>...</td>\n",
       "      <td>No</td>\n",
       "      <td>No</td>\n",
       "      <td>No</td>\n",
       "      <td>No</td>\n",
       "      <td>Month-to-month</td>\n",
       "      <td>Yes</td>\n",
       "      <td>Electronic check</td>\n",
       "      <td>29.85</td>\n",
       "      <td>29.85</td>\n",
       "      <td>No</td>\n",
       "    </tr>\n",
       "    <tr>\n",
       "      <th>1</th>\n",
       "      <td>5575-GNVDE</td>\n",
       "      <td>Male</td>\n",
       "      <td>0</td>\n",
       "      <td>No</td>\n",
       "      <td>No</td>\n",
       "      <td>34</td>\n",
       "      <td>Yes</td>\n",
       "      <td>No</td>\n",
       "      <td>DSL</td>\n",
       "      <td>Yes</td>\n",
       "      <td>...</td>\n",
       "      <td>Yes</td>\n",
       "      <td>No</td>\n",
       "      <td>No</td>\n",
       "      <td>No</td>\n",
       "      <td>One year</td>\n",
       "      <td>No</td>\n",
       "      <td>Mailed check</td>\n",
       "      <td>56.95</td>\n",
       "      <td>1889.50</td>\n",
       "      <td>No</td>\n",
       "    </tr>\n",
       "    <tr>\n",
       "      <th>2</th>\n",
       "      <td>3668-QPYBK</td>\n",
       "      <td>Male</td>\n",
       "      <td>0</td>\n",
       "      <td>No</td>\n",
       "      <td>No</td>\n",
       "      <td>2</td>\n",
       "      <td>Yes</td>\n",
       "      <td>No</td>\n",
       "      <td>DSL</td>\n",
       "      <td>Yes</td>\n",
       "      <td>...</td>\n",
       "      <td>No</td>\n",
       "      <td>No</td>\n",
       "      <td>No</td>\n",
       "      <td>No</td>\n",
       "      <td>Month-to-month</td>\n",
       "      <td>Yes</td>\n",
       "      <td>Mailed check</td>\n",
       "      <td>53.85</td>\n",
       "      <td>108.15</td>\n",
       "      <td>Yes</td>\n",
       "    </tr>\n",
       "    <tr>\n",
       "      <th>3</th>\n",
       "      <td>7795-CFOCW</td>\n",
       "      <td>Male</td>\n",
       "      <td>0</td>\n",
       "      <td>No</td>\n",
       "      <td>No</td>\n",
       "      <td>45</td>\n",
       "      <td>No</td>\n",
       "      <td>No phone service</td>\n",
       "      <td>DSL</td>\n",
       "      <td>Yes</td>\n",
       "      <td>...</td>\n",
       "      <td>Yes</td>\n",
       "      <td>Yes</td>\n",
       "      <td>No</td>\n",
       "      <td>No</td>\n",
       "      <td>One year</td>\n",
       "      <td>No</td>\n",
       "      <td>Bank transfer (automatic)</td>\n",
       "      <td>42.30</td>\n",
       "      <td>1840.75</td>\n",
       "      <td>No</td>\n",
       "    </tr>\n",
       "    <tr>\n",
       "      <th>4</th>\n",
       "      <td>9237-HQITU</td>\n",
       "      <td>Female</td>\n",
       "      <td>0</td>\n",
       "      <td>No</td>\n",
       "      <td>No</td>\n",
       "      <td>2</td>\n",
       "      <td>Yes</td>\n",
       "      <td>No</td>\n",
       "      <td>Fiber optic</td>\n",
       "      <td>No</td>\n",
       "      <td>...</td>\n",
       "      <td>No</td>\n",
       "      <td>No</td>\n",
       "      <td>No</td>\n",
       "      <td>No</td>\n",
       "      <td>Month-to-month</td>\n",
       "      <td>Yes</td>\n",
       "      <td>Electronic check</td>\n",
       "      <td>70.70</td>\n",
       "      <td>151.65</td>\n",
       "      <td>Yes</td>\n",
       "    </tr>\n",
       "  </tbody>\n",
       "</table>\n",
       "<p>5 rows × 21 columns</p>\n",
       "</div>"
      ],
      "text/plain": [
       "   customerID  gender  SeniorCitizen Partner Dependents  tenure PhoneService  \\\n",
       "0  7590-VHVEG  Female              0     Yes         No       1           No   \n",
       "1  5575-GNVDE    Male              0      No         No      34          Yes   \n",
       "2  3668-QPYBK    Male              0      No         No       2          Yes   \n",
       "3  7795-CFOCW    Male              0      No         No      45           No   \n",
       "4  9237-HQITU  Female              0      No         No       2          Yes   \n",
       "\n",
       "      MultipleLines InternetService OnlineSecurity  ... DeviceProtection  \\\n",
       "0  No phone service             DSL             No  ...               No   \n",
       "1                No             DSL            Yes  ...              Yes   \n",
       "2                No             DSL            Yes  ...               No   \n",
       "3  No phone service             DSL            Yes  ...              Yes   \n",
       "4                No     Fiber optic             No  ...               No   \n",
       "\n",
       "  TechSupport StreamingTV StreamingMovies        Contract PaperlessBilling  \\\n",
       "0          No          No              No  Month-to-month              Yes   \n",
       "1          No          No              No        One year               No   \n",
       "2          No          No              No  Month-to-month              Yes   \n",
       "3         Yes          No              No        One year               No   \n",
       "4          No          No              No  Month-to-month              Yes   \n",
       "\n",
       "               PaymentMethod MonthlyCharges  TotalCharges  Churn  \n",
       "0           Electronic check          29.85         29.85     No  \n",
       "1               Mailed check          56.95       1889.50     No  \n",
       "2               Mailed check          53.85        108.15    Yes  \n",
       "3  Bank transfer (automatic)          42.30       1840.75     No  \n",
       "4           Electronic check          70.70        151.65    Yes  \n",
       "\n",
       "[5 rows x 21 columns]"
      ]
     },
     "execution_count": 5,
     "metadata": {},
     "output_type": "execute_result"
    }
   ],
   "source": [
    "df.head(5)"
   ]
  },
  {
   "cell_type": "code",
   "execution_count": 6,
   "metadata": {},
   "outputs": [
    {
     "data": {
      "text/html": [
       "<div>\n",
       "<style scoped>\n",
       "    .dataframe tbody tr th:only-of-type {\n",
       "        vertical-align: middle;\n",
       "    }\n",
       "\n",
       "    .dataframe tbody tr th {\n",
       "        vertical-align: top;\n",
       "    }\n",
       "\n",
       "    .dataframe thead th {\n",
       "        text-align: right;\n",
       "    }\n",
       "</style>\n",
       "<table border=\"1\" class=\"dataframe\">\n",
       "  <thead>\n",
       "    <tr style=\"text-align: right;\">\n",
       "      <th></th>\n",
       "      <th>gender</th>\n",
       "      <th>SeniorCitizen</th>\n",
       "      <th>Partner</th>\n",
       "      <th>Dependents</th>\n",
       "      <th>tenure</th>\n",
       "      <th>PhoneService</th>\n",
       "      <th>MultipleLines</th>\n",
       "      <th>InternetService</th>\n",
       "      <th>OnlineSecurity</th>\n",
       "      <th>OnlineBackup</th>\n",
       "      <th>DeviceProtection</th>\n",
       "      <th>TechSupport</th>\n",
       "      <th>StreamingTV</th>\n",
       "      <th>StreamingMovies</th>\n",
       "      <th>Contract</th>\n",
       "      <th>PaperlessBilling</th>\n",
       "      <th>PaymentMethod</th>\n",
       "      <th>MonthlyCharges</th>\n",
       "      <th>TotalCharges</th>\n",
       "    </tr>\n",
       "  </thead>\n",
       "  <tbody>\n",
       "    <tr>\n",
       "      <th>0</th>\n",
       "      <td>Female</td>\n",
       "      <td>0</td>\n",
       "      <td>Yes</td>\n",
       "      <td>No</td>\n",
       "      <td>1</td>\n",
       "      <td>No</td>\n",
       "      <td>No phone service</td>\n",
       "      <td>DSL</td>\n",
       "      <td>No</td>\n",
       "      <td>Yes</td>\n",
       "      <td>No</td>\n",
       "      <td>No</td>\n",
       "      <td>No</td>\n",
       "      <td>No</td>\n",
       "      <td>Month-to-month</td>\n",
       "      <td>Yes</td>\n",
       "      <td>Electronic check</td>\n",
       "      <td>29.85</td>\n",
       "      <td>29.85</td>\n",
       "    </tr>\n",
       "    <tr>\n",
       "      <th>1</th>\n",
       "      <td>Male</td>\n",
       "      <td>0</td>\n",
       "      <td>No</td>\n",
       "      <td>No</td>\n",
       "      <td>34</td>\n",
       "      <td>Yes</td>\n",
       "      <td>No</td>\n",
       "      <td>DSL</td>\n",
       "      <td>Yes</td>\n",
       "      <td>No</td>\n",
       "      <td>Yes</td>\n",
       "      <td>No</td>\n",
       "      <td>No</td>\n",
       "      <td>No</td>\n",
       "      <td>One year</td>\n",
       "      <td>No</td>\n",
       "      <td>Mailed check</td>\n",
       "      <td>56.95</td>\n",
       "      <td>1889.50</td>\n",
       "    </tr>\n",
       "    <tr>\n",
       "      <th>2</th>\n",
       "      <td>Male</td>\n",
       "      <td>0</td>\n",
       "      <td>No</td>\n",
       "      <td>No</td>\n",
       "      <td>2</td>\n",
       "      <td>Yes</td>\n",
       "      <td>No</td>\n",
       "      <td>DSL</td>\n",
       "      <td>Yes</td>\n",
       "      <td>Yes</td>\n",
       "      <td>No</td>\n",
       "      <td>No</td>\n",
       "      <td>No</td>\n",
       "      <td>No</td>\n",
       "      <td>Month-to-month</td>\n",
       "      <td>Yes</td>\n",
       "      <td>Mailed check</td>\n",
       "      <td>53.85</td>\n",
       "      <td>108.15</td>\n",
       "    </tr>\n",
       "    <tr>\n",
       "      <th>3</th>\n",
       "      <td>Male</td>\n",
       "      <td>0</td>\n",
       "      <td>No</td>\n",
       "      <td>No</td>\n",
       "      <td>45</td>\n",
       "      <td>No</td>\n",
       "      <td>No phone service</td>\n",
       "      <td>DSL</td>\n",
       "      <td>Yes</td>\n",
       "      <td>No</td>\n",
       "      <td>Yes</td>\n",
       "      <td>Yes</td>\n",
       "      <td>No</td>\n",
       "      <td>No</td>\n",
       "      <td>One year</td>\n",
       "      <td>No</td>\n",
       "      <td>Bank transfer (automatic)</td>\n",
       "      <td>42.30</td>\n",
       "      <td>1840.75</td>\n",
       "    </tr>\n",
       "    <tr>\n",
       "      <th>4</th>\n",
       "      <td>Female</td>\n",
       "      <td>0</td>\n",
       "      <td>No</td>\n",
       "      <td>No</td>\n",
       "      <td>2</td>\n",
       "      <td>Yes</td>\n",
       "      <td>No</td>\n",
       "      <td>Fiber optic</td>\n",
       "      <td>No</td>\n",
       "      <td>No</td>\n",
       "      <td>No</td>\n",
       "      <td>No</td>\n",
       "      <td>No</td>\n",
       "      <td>No</td>\n",
       "      <td>Month-to-month</td>\n",
       "      <td>Yes</td>\n",
       "      <td>Electronic check</td>\n",
       "      <td>70.70</td>\n",
       "      <td>151.65</td>\n",
       "    </tr>\n",
       "  </tbody>\n",
       "</table>\n",
       "</div>"
      ],
      "text/plain": [
       "   gender  SeniorCitizen Partner Dependents  tenure PhoneService  \\\n",
       "0  Female              0     Yes         No       1           No   \n",
       "1    Male              0      No         No      34          Yes   \n",
       "2    Male              0      No         No       2          Yes   \n",
       "3    Male              0      No         No      45           No   \n",
       "4  Female              0      No         No       2          Yes   \n",
       "\n",
       "      MultipleLines InternetService OnlineSecurity OnlineBackup  \\\n",
       "0  No phone service             DSL             No          Yes   \n",
       "1                No             DSL            Yes           No   \n",
       "2                No             DSL            Yes          Yes   \n",
       "3  No phone service             DSL            Yes           No   \n",
       "4                No     Fiber optic             No           No   \n",
       "\n",
       "  DeviceProtection TechSupport StreamingTV StreamingMovies        Contract  \\\n",
       "0               No          No          No              No  Month-to-month   \n",
       "1              Yes          No          No              No        One year   \n",
       "2               No          No          No              No  Month-to-month   \n",
       "3              Yes         Yes          No              No        One year   \n",
       "4               No          No          No              No  Month-to-month   \n",
       "\n",
       "  PaperlessBilling              PaymentMethod  MonthlyCharges  TotalCharges  \n",
       "0              Yes           Electronic check           29.85         29.85  \n",
       "1               No               Mailed check           56.95       1889.50  \n",
       "2              Yes               Mailed check           53.85        108.15  \n",
       "3               No  Bank transfer (automatic)           42.30       1840.75  \n",
       "4              Yes           Electronic check           70.70        151.65  "
      ]
     },
     "execution_count": 6,
     "metadata": {},
     "output_type": "execute_result"
    }
   ],
   "source": [
    "# Remove customerID and Churn\n",
    "\n",
    "# selected_features = ['gender', 'SeniorCitizen', 'Partner', 'Dependents', 'tenure',\n",
    "#                      'PhoneService', 'MultipleLines', 'InternetService', 'OnlineSecurity',\n",
    "#                      'OnlineBackup', 'DeviceProtection', 'TechSupport', 'StreamingTV',\n",
    "#                      'StreamingMovies', 'Contract', 'PaperlessBilling', 'PaymentMethod',\n",
    "#                      'MonthlyCharges', 'TotalCharges']\n",
    "# \n",
    "# df[selected_features].head(5)\n",
    "\n",
    "df.drop(columns=['customerID', 'Churn']).head(5)"
   ]
  },
  {
   "cell_type": "code",
   "execution_count": 7,
   "metadata": {},
   "outputs": [],
   "source": [
    "df_new = df.drop(columns=['customerID', 'Churn'])"
   ]
  },
  {
   "cell_type": "code",
   "execution_count": 8,
   "metadata": {},
   "outputs": [
    {
     "data": {
      "text/plain": [
       "(7032, 19)"
      ]
     },
     "execution_count": 8,
     "metadata": {},
     "output_type": "execute_result"
    }
   ],
   "source": [
    "df_new.shape"
   ]
  },
  {
   "cell_type": "markdown",
   "metadata": {},
   "source": [
    "#### One-hot encoding"
   ]
  },
  {
   "cell_type": "code",
   "execution_count": 9,
   "metadata": {},
   "outputs": [],
   "source": [
    "categorical_columns = ['gender', 'SeniorCitizen', 'Partner', 'Dependents', 'PhoneService',\n",
    "                       'MultipleLines', 'InternetService', 'OnlineSecurity', 'OnlineBackup',\n",
    "                       'DeviceProtection', 'TechSupport', 'StreamingTV', 'StreamingMovies',\n",
    "                       'Contract', 'PaperlessBilling', 'PaymentMethod']\n",
    "\n",
    "df_new = pd.get_dummies(df_new, columns=categorical_columns)\n",
    "\n",
    "# df_new = df_new.drop(columns=categorical_columns)"
   ]
  },
  {
   "cell_type": "code",
   "execution_count": 10,
   "metadata": {},
   "outputs": [
    {
     "data": {
      "text/plain": [
       "(7032, 46)"
      ]
     },
     "execution_count": 10,
     "metadata": {},
     "output_type": "execute_result"
    }
   ],
   "source": [
    "df_new.shape"
   ]
  },
  {
   "cell_type": "code",
   "execution_count": 11,
   "metadata": {},
   "outputs": [
    {
     "data": {
      "text/plain": [
       "Index(['tenure', 'MonthlyCharges', 'TotalCharges', 'gender_Female',\n",
       "       'gender_Male', 'SeniorCitizen_0', 'SeniorCitizen_1', 'Partner_No',\n",
       "       'Partner_Yes', 'Dependents_No', 'Dependents_Yes', 'PhoneService_No',\n",
       "       'PhoneService_Yes', 'MultipleLines_No',\n",
       "       'MultipleLines_No phone service', 'MultipleLines_Yes',\n",
       "       'InternetService_DSL', 'InternetService_Fiber optic',\n",
       "       'InternetService_No', 'OnlineSecurity_No',\n",
       "       'OnlineSecurity_No internet service', 'OnlineSecurity_Yes',\n",
       "       'OnlineBackup_No', 'OnlineBackup_No internet service',\n",
       "       'OnlineBackup_Yes', 'DeviceProtection_No',\n",
       "       'DeviceProtection_No internet service', 'DeviceProtection_Yes',\n",
       "       'TechSupport_No', 'TechSupport_No internet service', 'TechSupport_Yes',\n",
       "       'StreamingTV_No', 'StreamingTV_No internet service', 'StreamingTV_Yes',\n",
       "       'StreamingMovies_No', 'StreamingMovies_No internet service',\n",
       "       'StreamingMovies_Yes', 'Contract_Month-to-month', 'Contract_One year',\n",
       "       'Contract_Two year', 'PaperlessBilling_No', 'PaperlessBilling_Yes',\n",
       "       'PaymentMethod_Bank transfer (automatic)',\n",
       "       'PaymentMethod_Credit card (automatic)',\n",
       "       'PaymentMethod_Electronic check', 'PaymentMethod_Mailed check'],\n",
       "      dtype='object')"
      ]
     },
     "execution_count": 11,
     "metadata": {},
     "output_type": "execute_result"
    }
   ],
   "source": [
    "df_new.columns"
   ]
  },
  {
   "cell_type": "code",
   "execution_count": 12,
   "metadata": {},
   "outputs": [
    {
     "data": {
      "text/html": [
       "<div>\n",
       "<style scoped>\n",
       "    .dataframe tbody tr th:only-of-type {\n",
       "        vertical-align: middle;\n",
       "    }\n",
       "\n",
       "    .dataframe tbody tr th {\n",
       "        vertical-align: top;\n",
       "    }\n",
       "\n",
       "    .dataframe thead th {\n",
       "        text-align: right;\n",
       "    }\n",
       "</style>\n",
       "<table border=\"1\" class=\"dataframe\">\n",
       "  <thead>\n",
       "    <tr style=\"text-align: right;\">\n",
       "      <th></th>\n",
       "      <th>tenure</th>\n",
       "      <th>MonthlyCharges</th>\n",
       "      <th>TotalCharges</th>\n",
       "      <th>gender_Female</th>\n",
       "      <th>gender_Male</th>\n",
       "      <th>SeniorCitizen_0</th>\n",
       "      <th>SeniorCitizen_1</th>\n",
       "      <th>Partner_No</th>\n",
       "      <th>Partner_Yes</th>\n",
       "      <th>Dependents_No</th>\n",
       "      <th>...</th>\n",
       "      <th>StreamingMovies_Yes</th>\n",
       "      <th>Contract_Month-to-month</th>\n",
       "      <th>Contract_One year</th>\n",
       "      <th>Contract_Two year</th>\n",
       "      <th>PaperlessBilling_No</th>\n",
       "      <th>PaperlessBilling_Yes</th>\n",
       "      <th>PaymentMethod_Bank transfer (automatic)</th>\n",
       "      <th>PaymentMethod_Credit card (automatic)</th>\n",
       "      <th>PaymentMethod_Electronic check</th>\n",
       "      <th>PaymentMethod_Mailed check</th>\n",
       "    </tr>\n",
       "  </thead>\n",
       "  <tbody>\n",
       "    <tr>\n",
       "      <th>0</th>\n",
       "      <td>1</td>\n",
       "      <td>29.85</td>\n",
       "      <td>29.85</td>\n",
       "      <td>1</td>\n",
       "      <td>0</td>\n",
       "      <td>1</td>\n",
       "      <td>0</td>\n",
       "      <td>0</td>\n",
       "      <td>1</td>\n",
       "      <td>1</td>\n",
       "      <td>...</td>\n",
       "      <td>0</td>\n",
       "      <td>1</td>\n",
       "      <td>0</td>\n",
       "      <td>0</td>\n",
       "      <td>0</td>\n",
       "      <td>1</td>\n",
       "      <td>0</td>\n",
       "      <td>0</td>\n",
       "      <td>1</td>\n",
       "      <td>0</td>\n",
       "    </tr>\n",
       "    <tr>\n",
       "      <th>1</th>\n",
       "      <td>34</td>\n",
       "      <td>56.95</td>\n",
       "      <td>1889.50</td>\n",
       "      <td>0</td>\n",
       "      <td>1</td>\n",
       "      <td>1</td>\n",
       "      <td>0</td>\n",
       "      <td>1</td>\n",
       "      <td>0</td>\n",
       "      <td>1</td>\n",
       "      <td>...</td>\n",
       "      <td>0</td>\n",
       "      <td>0</td>\n",
       "      <td>1</td>\n",
       "      <td>0</td>\n",
       "      <td>1</td>\n",
       "      <td>0</td>\n",
       "      <td>0</td>\n",
       "      <td>0</td>\n",
       "      <td>0</td>\n",
       "      <td>1</td>\n",
       "    </tr>\n",
       "    <tr>\n",
       "      <th>2</th>\n",
       "      <td>2</td>\n",
       "      <td>53.85</td>\n",
       "      <td>108.15</td>\n",
       "      <td>0</td>\n",
       "      <td>1</td>\n",
       "      <td>1</td>\n",
       "      <td>0</td>\n",
       "      <td>1</td>\n",
       "      <td>0</td>\n",
       "      <td>1</td>\n",
       "      <td>...</td>\n",
       "      <td>0</td>\n",
       "      <td>1</td>\n",
       "      <td>0</td>\n",
       "      <td>0</td>\n",
       "      <td>0</td>\n",
       "      <td>1</td>\n",
       "      <td>0</td>\n",
       "      <td>0</td>\n",
       "      <td>0</td>\n",
       "      <td>1</td>\n",
       "    </tr>\n",
       "    <tr>\n",
       "      <th>3</th>\n",
       "      <td>45</td>\n",
       "      <td>42.30</td>\n",
       "      <td>1840.75</td>\n",
       "      <td>0</td>\n",
       "      <td>1</td>\n",
       "      <td>1</td>\n",
       "      <td>0</td>\n",
       "      <td>1</td>\n",
       "      <td>0</td>\n",
       "      <td>1</td>\n",
       "      <td>...</td>\n",
       "      <td>0</td>\n",
       "      <td>0</td>\n",
       "      <td>1</td>\n",
       "      <td>0</td>\n",
       "      <td>1</td>\n",
       "      <td>0</td>\n",
       "      <td>1</td>\n",
       "      <td>0</td>\n",
       "      <td>0</td>\n",
       "      <td>0</td>\n",
       "    </tr>\n",
       "    <tr>\n",
       "      <th>4</th>\n",
       "      <td>2</td>\n",
       "      <td>70.70</td>\n",
       "      <td>151.65</td>\n",
       "      <td>1</td>\n",
       "      <td>0</td>\n",
       "      <td>1</td>\n",
       "      <td>0</td>\n",
       "      <td>1</td>\n",
       "      <td>0</td>\n",
       "      <td>1</td>\n",
       "      <td>...</td>\n",
       "      <td>0</td>\n",
       "      <td>1</td>\n",
       "      <td>0</td>\n",
       "      <td>0</td>\n",
       "      <td>0</td>\n",
       "      <td>1</td>\n",
       "      <td>0</td>\n",
       "      <td>0</td>\n",
       "      <td>1</td>\n",
       "      <td>0</td>\n",
       "    </tr>\n",
       "  </tbody>\n",
       "</table>\n",
       "<p>5 rows × 46 columns</p>\n",
       "</div>"
      ],
      "text/plain": [
       "   tenure  MonthlyCharges  TotalCharges  gender_Female  gender_Male  \\\n",
       "0       1           29.85         29.85              1            0   \n",
       "1      34           56.95       1889.50              0            1   \n",
       "2       2           53.85        108.15              0            1   \n",
       "3      45           42.30       1840.75              0            1   \n",
       "4       2           70.70        151.65              1            0   \n",
       "\n",
       "   SeniorCitizen_0  SeniorCitizen_1  Partner_No  Partner_Yes  Dependents_No  \\\n",
       "0                1                0           0            1              1   \n",
       "1                1                0           1            0              1   \n",
       "2                1                0           1            0              1   \n",
       "3                1                0           1            0              1   \n",
       "4                1                0           1            0              1   \n",
       "\n",
       "   ...  StreamingMovies_Yes  Contract_Month-to-month  Contract_One year  \\\n",
       "0  ...                    0                        1                  0   \n",
       "1  ...                    0                        0                  1   \n",
       "2  ...                    0                        1                  0   \n",
       "3  ...                    0                        0                  1   \n",
       "4  ...                    0                        1                  0   \n",
       "\n",
       "   Contract_Two year  PaperlessBilling_No  PaperlessBilling_Yes  \\\n",
       "0                  0                    0                     1   \n",
       "1                  0                    1                     0   \n",
       "2                  0                    0                     1   \n",
       "3                  0                    1                     0   \n",
       "4                  0                    0                     1   \n",
       "\n",
       "   PaymentMethod_Bank transfer (automatic)  \\\n",
       "0                                        0   \n",
       "1                                        0   \n",
       "2                                        0   \n",
       "3                                        1   \n",
       "4                                        0   \n",
       "\n",
       "   PaymentMethod_Credit card (automatic)  PaymentMethod_Electronic check  \\\n",
       "0                                      0                               1   \n",
       "1                                      0                               0   \n",
       "2                                      0                               0   \n",
       "3                                      0                               0   \n",
       "4                                      0                               1   \n",
       "\n",
       "   PaymentMethod_Mailed check  \n",
       "0                           0  \n",
       "1                           1  \n",
       "2                           1  \n",
       "3                           0  \n",
       "4                           0  \n",
       "\n",
       "[5 rows x 46 columns]"
      ]
     },
     "execution_count": 12,
     "metadata": {},
     "output_type": "execute_result"
    }
   ],
   "source": [
    "df_new.head(5)"
   ]
  },
  {
   "cell_type": "markdown",
   "metadata": {},
   "source": [
    "# Split into train and test set"
   ]
  },
  {
   "cell_type": "code",
   "execution_count": 13,
   "metadata": {},
   "outputs": [],
   "source": [
    "X = df_new.values\n",
    "y = df['Churn'].values"
   ]
  },
  {
   "cell_type": "code",
   "execution_count": 14,
   "metadata": {},
   "outputs": [
    {
     "data": {
      "text/plain": [
       "array([[1.0000e+00, 2.9850e+01, 2.9850e+01, ..., 0.0000e+00, 1.0000e+00,\n",
       "        0.0000e+00],\n",
       "       [3.4000e+01, 5.6950e+01, 1.8895e+03, ..., 0.0000e+00, 0.0000e+00,\n",
       "        1.0000e+00],\n",
       "       [2.0000e+00, 5.3850e+01, 1.0815e+02, ..., 0.0000e+00, 0.0000e+00,\n",
       "        1.0000e+00],\n",
       "       ...,\n",
       "       [1.1000e+01, 2.9600e+01, 3.4645e+02, ..., 0.0000e+00, 1.0000e+00,\n",
       "        0.0000e+00],\n",
       "       [4.0000e+00, 7.4400e+01, 3.0660e+02, ..., 0.0000e+00, 0.0000e+00,\n",
       "        1.0000e+00],\n",
       "       [6.6000e+01, 1.0565e+02, 6.8445e+03, ..., 0.0000e+00, 0.0000e+00,\n",
       "        0.0000e+00]])"
      ]
     },
     "execution_count": 14,
     "metadata": {},
     "output_type": "execute_result"
    }
   ],
   "source": [
    "X"
   ]
  },
  {
   "cell_type": "code",
   "execution_count": 15,
   "metadata": {},
   "outputs": [
    {
     "data": {
      "text/plain": [
       "array(['No', 'No', 'Yes', ..., 'No', 'Yes', 'No'], dtype=object)"
      ]
     },
     "execution_count": 15,
     "metadata": {},
     "output_type": "execute_result"
    }
   ],
   "source": [
    "y"
   ]
  },
  {
   "cell_type": "code",
   "execution_count": 16,
   "metadata": {},
   "outputs": [],
   "source": [
    "from sklearn.model_selection import train_test_split\n",
    "\n",
    "X_train, X_test, y_train, y_test = train_test_split(X, y, test_size=0.2, random_state=0)"
   ]
  },
  {
   "cell_type": "code",
   "execution_count": 17,
   "metadata": {},
   "outputs": [
    {
     "name": "stdout",
     "output_type": "stream",
     "text": [
      "(7032, 46)\n",
      "(5625, 46)\n",
      "(1407, 46)\n"
     ]
    }
   ],
   "source": [
    "print(X.shape)\n",
    "print(X_train.shape)\n",
    "print(X_test.shape)"
   ]
  },
  {
   "cell_type": "markdown",
   "metadata": {},
   "source": [
    "# Build and train model"
   ]
  },
  {
   "cell_type": "code",
   "execution_count": 18,
   "metadata": {},
   "outputs": [],
   "source": [
    "from sklearn.tree import DecisionTreeClassifier\n",
    "from sklearn.ensemble import RandomForestClassifier"
   ]
  },
  {
   "cell_type": "code",
   "execution_count": 19,
   "metadata": {},
   "outputs": [],
   "source": [
    "# model = DecisionTreeClassifier()\n",
    "\n",
    "# model = DecisionTreeClassifier(max_depth=5, min_samples_split=4)\n",
    "\n",
    "model = RandomForestClassifier(n_estimators=10, max_depth=5, class_weight={'Yes': 1.1}, random_state=10)"
   ]
  },
  {
   "cell_type": "code",
   "execution_count": 20,
   "metadata": {},
   "outputs": [
    {
     "data": {
      "text/plain": [
       "RandomForestClassifier(bootstrap=True, class_weight={'Yes': 1.1},\n",
       "                       criterion='gini', max_depth=5, max_features='auto',\n",
       "                       max_leaf_nodes=None, min_impurity_decrease=0.0,\n",
       "                       min_impurity_split=None, min_samples_leaf=1,\n",
       "                       min_samples_split=2, min_weight_fraction_leaf=0.0,\n",
       "                       n_estimators=10, n_jobs=None, oob_score=False,\n",
       "                       random_state=10, verbose=0, warm_start=False)"
      ]
     },
     "execution_count": 20,
     "metadata": {},
     "output_type": "execute_result"
    }
   ],
   "source": [
    "model.fit(X_train, y_train) "
   ]
  },
  {
   "cell_type": "code",
   "execution_count": 21,
   "metadata": {},
   "outputs": [
    {
     "name": "stdout",
     "output_type": "stream",
     "text": [
      "5\n",
      "2\n",
      "['No' 'Yes']\n"
     ]
    }
   ],
   "source": [
    "print(model.max_depth)\n",
    "print(model.min_samples_split)\n",
    "print(model.classes_)"
   ]
  },
  {
   "cell_type": "markdown",
   "metadata": {},
   "source": [
    "# Make predictions"
   ]
  },
  {
   "cell_type": "code",
   "execution_count": 23,
   "metadata": {},
   "outputs": [
    {
     "data": {
      "text/plain": [
       "Index(['tenure', 'MonthlyCharges', 'TotalCharges', 'gender_Female',\n",
       "       'gender_Male', 'SeniorCitizen_0', 'SeniorCitizen_1', 'Partner_No',\n",
       "       'Partner_Yes', 'Dependents_No', 'Dependents_Yes', 'PhoneService_No',\n",
       "       'PhoneService_Yes', 'MultipleLines_No',\n",
       "       'MultipleLines_No phone service', 'MultipleLines_Yes',\n",
       "       'InternetService_DSL', 'InternetService_Fiber optic',\n",
       "       'InternetService_No', 'OnlineSecurity_No',\n",
       "       'OnlineSecurity_No internet service', 'OnlineSecurity_Yes',\n",
       "       'OnlineBackup_No', 'OnlineBackup_No internet service',\n",
       "       'OnlineBackup_Yes', 'DeviceProtection_No',\n",
       "       'DeviceProtection_No internet service', 'DeviceProtection_Yes',\n",
       "       'TechSupport_No', 'TechSupport_No internet service', 'TechSupport_Yes',\n",
       "       'StreamingTV_No', 'StreamingTV_No internet service', 'StreamingTV_Yes',\n",
       "       'StreamingMovies_No', 'StreamingMovies_No internet service',\n",
       "       'StreamingMovies_Yes', 'Contract_Month-to-month', 'Contract_One year',\n",
       "       'Contract_Two year', 'PaperlessBilling_No', 'PaperlessBilling_Yes',\n",
       "       'PaymentMethod_Bank transfer (automatic)',\n",
       "       'PaymentMethod_Credit card (automatic)',\n",
       "       'PaymentMethod_Electronic check', 'PaymentMethod_Mailed check'],\n",
       "      dtype='object')"
      ]
     },
     "execution_count": 23,
     "metadata": {},
     "output_type": "execute_result"
    }
   ],
   "source": [
    "df_new.columns"
   ]
  },
  {
   "cell_type": "code",
   "execution_count": 24,
   "metadata": {},
   "outputs": [],
   "source": [
    "test_input = [2.0, 24.4, 1548.65, \n",
    "              0.0, 1.0, 0.0, 1.0, 0.0, 1.0, 0.0, 1.0, 0.0, 1.0, 0.0, 0.0, 1.0,\n",
    "              0.0, 0.0, 1.0, 0.0, 1.0, 0.0, 0.0, 1.0, 0.0, 0.0, 1.0, 0.0, 0.0,\n",
    "              1.0, 0.0, 0.0, 1.0, 0.0, 0.0, 1.0, 0.0, 0.0, 0.0, 1.0, 0.0, 1.0,\n",
    "              1.0, 0.0, 0.0, 0.0]"
   ]
  },
  {
   "cell_type": "code",
   "execution_count": 25,
   "metadata": {},
   "outputs": [
    {
     "name": "stdout",
     "output_type": "stream",
     "text": [
      "['No']\n"
     ]
    }
   ],
   "source": [
    "prediction = model.predict([test_input])\n",
    "print(prediction)"
   ]
  },
  {
   "cell_type": "code",
   "execution_count": 26,
   "metadata": {},
   "outputs": [],
   "source": [
    "y_pred = model.predict(X_test)"
   ]
  },
  {
   "cell_type": "code",
   "execution_count": 27,
   "metadata": {},
   "outputs": [
    {
     "data": {
      "text/plain": [
       "array(['No', 'No', 'No', ..., 'Yes', 'No', 'No'], dtype=object)"
      ]
     },
     "execution_count": 27,
     "metadata": {},
     "output_type": "execute_result"
    }
   ],
   "source": [
    "y_pred"
   ]
  },
  {
   "cell_type": "markdown",
   "metadata": {},
   "source": [
    "# Performance metrics"
   ]
  },
  {
   "cell_type": "code",
   "execution_count": 31,
   "metadata": {},
   "outputs": [],
   "source": [
    "from sklearn.metrics import confusion_matrix, accuracy_score, precision_score, recall_score"
   ]
  },
  {
   "cell_type": "code",
   "execution_count": 32,
   "metadata": {},
   "outputs": [
    {
     "name": "stdout",
     "output_type": "stream",
     "text": [
      "['No' 'No' 'No' 'Yes' 'Yes' 'No' 'No' 'Yes' 'No' 'No' 'No' 'No']\n",
      "['No' 'No' 'No' 'Yes' 'Yes' 'No' 'No' 'Yes' 'No' 'No' 'No' 'No']\n"
     ]
    }
   ],
   "source": [
    "print(y_test[:12])\n",
    "print(y_pred[:12])"
   ]
  },
  {
   "cell_type": "code",
   "execution_count": 33,
   "metadata": {},
   "outputs": [
    {
     "data": {
      "text/plain": [
       "array([[944,  94],\n",
       "       [181, 188]])"
      ]
     },
     "execution_count": 33,
     "metadata": {},
     "output_type": "execute_result"
    }
   ],
   "source": [
    "confusion_matrix(y_test, y_pred)"
   ]
  },
  {
   "cell_type": "code",
   "execution_count": 34,
   "metadata": {},
   "outputs": [
    {
     "name": "stdout",
     "output_type": "stream",
     "text": [
      "Accuracy: 0.8045\n",
      "Precision: 0.6667\n",
      "Recall/Sensitivity: 0.5095\n"
     ]
    }
   ],
   "source": [
    "acc = accuracy_score(y_test, y_pred)\n",
    "precision = precision_score(y_test, y_pred, pos_label='Yes')\n",
    "recall = recall_score(y_test, y_pred, pos_label='Yes')\n",
    "\n",
    "print(f'Accuracy: {acc:.4}')\n",
    "print(f'Precision: {precision:.4}')\n",
    "print(f'Recall/Sensitivity: {recall:.4}')"
   ]
  },
  {
   "cell_type": "markdown",
   "metadata": {},
   "source": [
    "# Visualize"
   ]
  },
  {
   "cell_type": "code",
   "execution_count": 37,
   "metadata": {},
   "outputs": [
    {
     "data": {
      "image/png": "[encoded data removed]",
      "text/plain": [
       "<Figure size 1080x648 with 1 Axes>"
      ]
     },
     "metadata": {
      "needs_background": "light"
     },
     "output_type": "display_data"
    }
   ],
   "source": [
    "from sklearn.tree import plot_tree\n",
    "plt.figure(figsize=(15,9))\n",
    "single_tree = model.estimators_[0]\n",
    "plot_tree(single_tree, filled=True, fontsize=12, feature_names=df_new.columns)\n",
    "plt.show()"
   ]
  },
  {
   "cell_type": "code",
   "execution_count": 35,
   "metadata": {},
   "outputs": [],
   "source": [
    "#Alternative/Interactive plotting\n",
    "from sklearn.tree import export_graphviz\n",
    "single_tree = model.estimators_[0]\n",
    "dot_str = export_graphviz(single_tree, out_file=None, filled=True, rounded=True, special_characters=True,\n",
    "                          impurity=False, feature_names=df_new.columns, class_names=model.classes_)"
   ]
  },
  {
   "cell_type": "code",
   "execution_count": 36,
   "metadata": {
    "collapsed": true
   },
   "outputs": [
    {
     "name": "stdout",
     "output_type": "stream",
     "text": [
      "digraph Tree {\n",
      "node [shape=box, style=\"filled, rounded\", color=\"black\", fontname=helvetica] ;\n",
      "edge [fontname=helvetica] ;\n",
      "0 [label=<OnlineBackup_No &le; 0.5<br/>samples = 3606<br/>value = [4107.0, 1669.8]<br/>class = No>, fillcolor=\"#f0b48a\"] ;\n",
      "1 [label=<Contract_Two year &le; 0.5<br/>samples = 2026<br/>value = [2670.0, 542.3]<br/>class = No>, fillcolor=\"#ea9b61\"] ;\n",
      "0 -> 1 [labeldistance=2.5, labelangle=45, headlabel=\"True\"] ;\n",
      "2 [label=<OnlineBackup_No internet service &le; 0.5<br/>samples = 1327<br/>value = [1601.0, 513.7]<br/>class = No>, fillcolor=\"#eda979\"] ;\n",
      "1 -> 2 ;\n",
      "3 [label=<InternetService_Fiber optic &le; 0.5<br/>samples = 846<br/>value = [921.0, 414.7]<br/>class = No>, fillcolor=\"#f1ba92\"] ;\n",
      "2 -> 3 ;\n",
      "4 [label=<tenure &le; 3.5<br/>samples = 331<br/>value = [417.0, 100.1]<br/>class = No>, fillcolor=\"#eb9f69\"] ;\n",
      "3 -> 4 ;\n",
      "5 [label=<samples = 31<br/>value = [20.0, 35.2]<br/>class = Yes>, fillcolor=\"#a9d5f4\"] ;\n",
      "4 -> 5 ;\n",
      "6 [label=<samples = 300<br/>value = [397.0, 64.9]<br/>class = No>, fillcolor=\"#e99659\"] ;\n",
      "4 -> 6 ;\n",
      "7 [label=<Contract_Month-to-month &le; 0.5<br/>samples = 515<br/>value = [504.0, 314.6]<br/>class = No>, fillcolor=\"#f5d0b5\"] ;\n",
      "3 -> 7 ;\n",
      "8 [label=<samples = 163<br/>value = [204.0, 40.7]<br/>class = No>, fillcolor=\"#ea9a61\"] ;\n",
      "7 -> 8 ;\n",
      "9 [label=<samples = 352<br/>value = [300.0, 273.9]<br/>class = No>, fillcolor=\"#fdf4ee\"] ;\n",
      "7 -> 9 ;\n",
      "10 [label=<Contract_Month-to-month &le; 0.5<br/>samples = 481<br/>value = [680.0, 99.0]<br/>class = No>, fillcolor=\"#e99356\"] ;\n",
      "2 -> 10 ;\n",
      "11 [label=<Partner_No &le; 0.5<br/>samples = 208<br/>value = [331.0, 5.5]<br/>class = No>, fillcolor=\"#e5833c\"] ;\n",
      "10 -> 11 ;\n",
      "12 [label=<samples = 108<br/>value = [181, 0]<br/>class = No>, fillcolor=\"#e58139\"] ;\n",
      "11 -> 12 ;\n",
      "13 [label=<samples = 100<br/>value = [150.0, 5.5]<br/>class = No>, fillcolor=\"#e68640\"] ;\n",
      "11 -> 13 ;\n",
      "14 [label=<PaymentMethod_Mailed check &le; 0.5<br/>samples = 273<br/>value = [349.0, 93.5]<br/>class = No>, fillcolor=\"#eca36e\"] ;\n",
      "10 -> 14 ;\n",
      "15 [label=<samples = 90<br/>value = [131.0, 23.1]<br/>class = No>, fillcolor=\"#ea975c\"] ;\n",
      "14 -> 15 ;\n",
      "16 [label=<samples = 183<br/>value = [218.0, 70.4]<br/>class = No>, fillcolor=\"#edaa79\"] ;\n",
      "14 -> 16 ;\n",
      "17 [label=<PaymentMethod_Credit card (automatic) &le; 0.5<br/>samples = 699<br/>value = [1069.0, 28.6]<br/>class = No>, fillcolor=\"#e6843e\"] ;\n",
      "1 -> 17 ;\n",
      "18 [label=<PaperlessBilling_Yes &le; 0.5<br/>samples = 449<br/>value = [679.0, 26.4]<br/>class = No>, fillcolor=\"#e68641\"] ;\n",
      "17 -> 18 ;\n",
      "19 [label=<TotalCharges &le; 6050.625<br/>samples = 259<br/>value = [411.0, 6.6]<br/>class = No>, fillcolor=\"#e5833c\"] ;\n",
      "18 -> 19 ;\n",
      "20 [label=<samples = 225<br/>value = [356.0, 2.2]<br/>class = No>, fillcolor=\"#e5823a\"] ;\n",
      "19 -> 20 ;\n",
      "21 [label=<samples = 34<br/>value = [55.0, 4.4]<br/>class = No>, fillcolor=\"#e78b49\"] ;\n",
      "19 -> 21 ;\n",
      "22 [label=<MonthlyCharges &le; 95.15<br/>samples = 190<br/>value = [268.0, 19.8]<br/>class = No>, fillcolor=\"#e78a48\"] ;\n",
      "18 -> 22 ;\n",
      "23 [label=<samples = 127<br/>value = [181.0, 6.6]<br/>class = No>, fillcolor=\"#e68640\"] ;\n",
      "22 -> 23 ;\n",
      "24 [label=<samples = 63<br/>value = [87.0, 13.2]<br/>class = No>, fillcolor=\"#e99457\"] ;\n",
      "22 -> 24 ;\n",
      "25 [label=<MonthlyCharges &le; 116.175<br/>samples = 250<br/>value = [390.0, 2.2]<br/>class = No>, fillcolor=\"#e5823a\"] ;\n",
      "17 -> 25 ;\n",
      "26 [label=<SeniorCitizen_0 &le; 0.5<br/>samples = 245<br/>value = [383.0, 1.1]<br/>class = No>, fillcolor=\"#e5813a\"] ;\n",
      "25 -> 26 ;\n",
      "27 [label=<samples = 23<br/>value = [38.0, 1.1]<br/>class = No>, fillcolor=\"#e6853f\"] ;\n",
      "26 -> 27 ;\n",
      "28 [label=<samples = 222<br/>value = [345, 0]<br/>class = No>, fillcolor=\"#e58139\"] ;\n",
      "26 -> 28 ;\n",
      "29 [label=<Partner_Yes &le; 0.5<br/>samples = 5<br/>value = [7.0, 1.1]<br/>class = No>, fillcolor=\"#e99558\"] ;\n",
      "25 -> 29 ;\n",
      "30 [label=<samples = 1<br/>value = [0.0, 1.1]<br/>class = Yes>, fillcolor=\"#399de5\"] ;\n",
      "29 -> 30 ;\n",
      "31 [label=<samples = 4<br/>value = [7, 0]<br/>class = No>, fillcolor=\"#e58139\"] ;\n",
      "29 -> 31 ;\n",
      "32 [label=<Contract_Month-to-month &le; 0.5<br/>samples = 1580<br/>value = [1437.0, 1127.5]<br/>class = No>, fillcolor=\"#f9e4d4\"] ;\n",
      "0 -> 32 [labeldistance=2.5, labelangle=-45, headlabel=\"False\"] ;\n",
      "33 [label=<PaperlessBilling_Yes &le; 0.5<br/>samples = 397<br/>value = [566.0, 80.3]<br/>class = No>, fillcolor=\"#e99355\"] ;\n",
      "32 -> 33 ;\n",
      "34 [label=<tenure &le; 39.5<br/>samples = 151<br/>value = [243.0, 5.5]<br/>class = No>, fillcolor=\"#e6843d\"] ;\n",
      "33 -> 34 ;\n",
      "35 [label=<MonthlyCharges &le; 82.975<br/>samples = 59<br/>value = [91.0, 4.4]<br/>class = No>, fillcolor=\"#e68743\"] ;\n",
      "34 -> 35 ;\n",
      "36 [label=<samples = 52<br/>value = [82.0, 1.1]<br/>class = No>, fillcolor=\"#e5833c\"] ;\n",
      "35 -> 36 ;\n",
      "37 [label=<samples = 7<br/>value = [9.0, 3.3]<br/>class = No>, fillcolor=\"#efaf82\"] ;\n",
      "35 -> 37 ;\n",
      "38 [label=<MonthlyCharges &le; 83.7<br/>samples = 92<br/>value = [152.0, 1.1]<br/>class = No>, fillcolor=\"#e5823a\"] ;\n",
      "34 -> 38 ;\n",
      "39 [label=<samples = 57<br/>value = [95, 0]<br/>class = No>, fillcolor=\"#e58139\"] ;\n",
      "38 -> 39 ;\n",
      "40 [label=<samples = 35<br/>value = [57.0, 1.1]<br/>class = No>, fillcolor=\"#e6833d\"] ;\n",
      "38 -> 40 ;\n",
      "41 [label=<TotalCharges &le; 482.0<br/>samples = 246<br/>value = [323.0, 74.8]<br/>class = No>, fillcolor=\"#eb9e67\"] ;\n",
      "33 -> 41 ;\n",
      "42 [label=<PaymentMethod_Electronic check &le; 0.5<br/>samples = 8<br/>value = [8.0, 7.7]<br/>class = No>, fillcolor=\"#fefaf8\"] ;\n",
      "41 -> 42 ;\n",
      "43 [label=<samples = 5<br/>value = [7.0, 1.1]<br/>class = No>, fillcolor=\"#e99558\"] ;\n",
      "42 -> 43 ;\n",
      "44 [label=<samples = 3<br/>value = [1.0, 6.6]<br/>class = Yes>, fillcolor=\"#57ace9\"] ;\n",
      "42 -> 44 ;\n",
      "45 [label=<TotalCharges &le; 6969.05<br/>samples = 238<br/>value = [315.0, 67.1]<br/>class = No>, fillcolor=\"#eb9c63\"] ;\n",
      "41 -> 45 ;\n",
      "46 [label=<samples = 217<br/>value = [292.0, 56.1]<br/>class = No>, fillcolor=\"#ea995f\"] ;\n",
      "45 -> 46 ;\n",
      "47 [label=<samples = 21<br/>value = [23, 11]<br/>class = No>, fillcolor=\"#f1bd98\"] ;\n",
      "45 -> 47 ;\n",
      "48 [label=<SeniorCitizen_0 &le; 0.5<br/>samples = 1183<br/>value = [871.0, 1047.2]<br/>class = Yes>, fillcolor=\"#deeffb\"] ;\n",
      "32 -> 48 ;\n",
      "49 [label=<MultipleLines_No &le; 0.5<br/>samples = 280<br/>value = [163.0, 310.2]<br/>class = Yes>, fillcolor=\"#a1d0f3\"] ;\n",
      "48 -> 49 ;\n",
      "50 [label=<PaymentMethod_Electronic check &le; 0.5<br/>samples = 170<br/>value = [85.0, 195.8]<br/>class = Yes>, fillcolor=\"#8fc8f0\"] ;\n",
      "49 -> 50 ;\n",
      "51 [label=<samples = 53<br/>value = [36.0, 44.0]<br/>class = Yes>, fillcolor=\"#dbedfa\"] ;\n",
      "50 -> 51 ;\n",
      "52 [label=<samples = 117<br/>value = [49.0, 151.8]<br/>class = Yes>, fillcolor=\"#79bded\"] ;\n",
      "50 -> 52 ;\n",
      "53 [label=<MonthlyCharges &le; 89.225<br/>samples = 110<br/>value = [78.0, 114.4]<br/>class = Yes>, fillcolor=\"#c0e0f7\"] ;\n",
      "49 -> 53 ;\n",
      "54 [label=<samples = 91<br/>value = [72.0, 90.2]<br/>class = Yes>, fillcolor=\"#d7ebfa\"] ;\n",
      "53 -> 54 ;\n",
      "55 [label=<samples = 19<br/>value = [6.0, 24.2]<br/>class = Yes>, fillcolor=\"#6ab5eb\"] ;\n",
      "53 -> 55 ;\n",
      "56 [label=<Partner_Yes &le; 0.5<br/>samples = 903<br/>value = [708.0, 737.0]<br/>class = Yes>, fillcolor=\"#f7fbfe\"] ;\n",
      "48 -> 56 ;\n",
      "57 [label=<tenure &le; 8.5<br/>samples = 622<br/>value = [454.0, 543.4]<br/>class = Yes>, fillcolor=\"#deeffb\"] ;\n",
      "56 -> 57 ;\n",
      "58 [label=<samples = 360<br/>value = [219.0, 378.4]<br/>class = Yes>, fillcolor=\"#acd6f4\"] ;\n",
      "57 -> 58 ;\n",
      "59 [label=<samples = 262<br/>value = [235.0, 165.0]<br/>class = No>, fillcolor=\"#f7d9c4\"] ;\n",
      "57 -> 59 ;\n",
      "60 [label=<PaymentMethod_Credit card (automatic) &le; 0.5<br/>samples = 281<br/>value = [254.0, 193.6]<br/>class = No>, fillcolor=\"#f9e1d0\"] ;\n",
      "56 -> 60 ;\n",
      "61 [label=<samples = 243<br/>value = [208.0, 177.1]<br/>class = No>, fillcolor=\"#fbece2\"] ;\n",
      "60 -> 61 ;\n",
      "62 [label=<samples = 38<br/>value = [46.0, 16.5]<br/>class = No>, fillcolor=\"#eeae80\"] ;\n",
      "60 -> 62 ;\n",
      "}\n"
     ]
    }
   ],
   "source": [
    "#print(dot_str) #copy this output to the link below"
   ]
  },
  {
   "cell_type": "markdown",
   "metadata": {},
   "source": [
    "https://dreampuf.github.io/GraphvizOnline/"
   ]
  },
  {
   "cell_type": "markdown",
   "metadata": {},
   "source": [
    "# Øvelser - Fine tune model"
   ]
  },
  {
   "cell_type": "markdown",
   "metadata": {},
   "source": [
    "- Prøv at træne modellen med forskellige værdier for ```max_depth``` og ```min_samples_split```, og se hvordan det påvirker performance metrics.\n",
    "- Prøv at fjerne kolonner i træningsdata og træn modellen igen. Se hvordan det påvirker performance metrics.\n",
    "- Test forskellige kombinationer af de to overstående punkter, og se hvor god performance man kan få.\n",
    "- Importer en Random Forest model og lav prædiktioner med denne på samme måde som overstående.\n",
    "\n",
    "  ```from sklearn.ensemble import RandomForestClassifier```\n",
    "- Afprøv andre parametre i Random Forest modellen fx ```n_estimators``` (antal Decision Trees)."
   ]
  },
  {
   "cell_type": "markdown",
   "metadata": {},
   "source": [
    "# Exercise - Fine tune model"
   ]
  },
  {
   "cell_type": "markdown",
   "metadata": {},
   "source": [
    "- Try training the model with different values for $max_depth$ and $min_samples_split$, and see how it affects the performance metrics.\n",
    "- Try removing columns from the training data and retrain the model. See how it affects the performance metrics.\n",
    "- Test different combinations of the methods in the two previous bullets, and see how high performance you can get.\n",
    "- Import a Random Forest classification model and make prediction in the same way as above.\n",
    "  \n",
    "  ```from sklearn.ensemble import RandomForestClassifier```\n",
    "- Test other parameters in the Random Forest model e.g. ```n_estimators``` (number of Decision Trees)."
   ]
  },
  {
   "cell_type": "code",
   "execution_count": null,
   "metadata": {},
   "outputs": [],
   "source": []
  }
 ],
 "metadata": {
  "kernelspec": {
   "display_name": "Python 3",
   "language": "python",
   "name": "python3"
  },
  "language_info": {
   "codemirror_mode": {
    "name": "ipython",
    "version": 3
   },
   "file_extension": ".py",
   "mimetype": "text/x-python",
   "name": "python",
   "nbconvert_exporter": "python",
   "pygments_lexer": "ipython3",
   "version": "3.7.3"
  }
 },
 "nbformat": 4,
 "nbformat_minor": 2
}

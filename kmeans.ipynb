{
 "cells": [
  {
   "cell_type": "markdown",
   "metadata": {},
   "source": [
    "## Import libraries"
   ]
  },
  {
   "cell_type": "code",
   "execution_count": 2,
   "metadata": {},
   "outputs": [],
   "source": [
    "import pandas as pd\n",
    "import numpy as np"
   ]
  },
  {
   "cell_type": "markdown",
   "metadata": {},
   "source": [
    "## Load data"
   ]
  },
  {
   "cell_type": "code",
   "execution_count": 3,
   "metadata": {},
   "outputs": [],
   "source": [
    "df_demo = pd.read_csv('Data/df_demography.csv', sep=',', dtype={'cpr': str})\n",
    "df_pers = pd.read_csv('Data/df_personal_characteristic.csv', sep=',', dtype={'cpr': str})"
   ]
  },
  {
   "cell_type": "code",
   "execution_count": 4,
   "metadata": {},
   "outputs": [],
   "source": [
    "df_pers.to_pickle('Data/df_personal_characteristic.pkl')"
   ]
  },
  {
   "cell_type": "code",
   "execution_count": 5,
   "metadata": {},
   "outputs": [],
   "source": [
    "df_pers = pd.read_pickle('Data/df_personal_characteristic.pkl')"
   ]
  },
  {
   "cell_type": "markdown",
   "metadata": {},
   "source": [
    "## Data preprocessing / Feature engineering"
   ]
  },
  {
   "cell_type": "markdown",
   "metadata": {},
   "source": [
    "#### Merge datakilder"
   ]
  },
  {
   "cell_type": "code",
   "execution_count": 6,
   "metadata": {},
   "outputs": [
    {
     "data": {
      "text/html": [
       "<div>\n",
       "<style scoped>\n",
       "    .dataframe tbody tr th:only-of-type {\n",
       "        vertical-align: middle;\n",
       "    }\n",
       "\n",
       "    .dataframe tbody tr th {\n",
       "        vertical-align: top;\n",
       "    }\n",
       "\n",
       "    .dataframe thead th {\n",
       "        text-align: right;\n",
       "    }\n",
       "</style>\n",
       "<table border=\"1\" class=\"dataframe\">\n",
       "  <thead>\n",
       "    <tr style=\"text-align: right;\">\n",
       "      <th></th>\n",
       "      <th>cpr</th>\n",
       "      <th>municipality</th>\n",
       "      <th>salary</th>\n",
       "    </tr>\n",
       "  </thead>\n",
       "  <tbody>\n",
       "    <tr>\n",
       "      <th>0</th>\n",
       "      <td>1203913055</td>\n",
       "      <td>Esbjerg</td>\n",
       "      <td>377218</td>\n",
       "    </tr>\n",
       "    <tr>\n",
       "      <th>1</th>\n",
       "      <td>1308952064</td>\n",
       "      <td>Sønderborg</td>\n",
       "      <td>286903</td>\n",
       "    </tr>\n",
       "    <tr>\n",
       "      <th>2</th>\n",
       "      <td>2410936634</td>\n",
       "      <td>Thisted</td>\n",
       "      <td>337835</td>\n",
       "    </tr>\n",
       "    <tr>\n",
       "      <th>3</th>\n",
       "      <td>1605952976</td>\n",
       "      <td>København</td>\n",
       "      <td>273928</td>\n",
       "    </tr>\n",
       "    <tr>\n",
       "      <th>4</th>\n",
       "      <td>2802942759</td>\n",
       "      <td>Silkeborg</td>\n",
       "      <td>318220</td>\n",
       "    </tr>\n",
       "  </tbody>\n",
       "</table>\n",
       "</div>"
      ],
      "text/plain": [
       "          cpr municipality  salary\n",
       "0  1203913055      Esbjerg  377218\n",
       "1  1308952064   Sønderborg  286903\n",
       "2  2410936634      Thisted  337835\n",
       "3  1605952976    København  273928\n",
       "4  2802942759    Silkeborg  318220"
      ]
     },
     "execution_count": 6,
     "metadata": {},
     "output_type": "execute_result"
    }
   ],
   "source": [
    "df_demo.head(5)"
   ]
  },
  {
   "cell_type": "code",
   "execution_count": 7,
   "metadata": {},
   "outputs": [
    {
     "data": {
      "text/html": [
       "<div>\n",
       "<style scoped>\n",
       "    .dataframe tbody tr th:only-of-type {\n",
       "        vertical-align: middle;\n",
       "    }\n",
       "\n",
       "    .dataframe tbody tr th {\n",
       "        vertical-align: top;\n",
       "    }\n",
       "\n",
       "    .dataframe thead th {\n",
       "        text-align: right;\n",
       "    }\n",
       "</style>\n",
       "<table border=\"1\" class=\"dataframe\">\n",
       "  <thead>\n",
       "    <tr style=\"text-align: right;\">\n",
       "      <th></th>\n",
       "      <th>cpr</th>\n",
       "      <th>height</th>\n",
       "      <th>weight</th>\n",
       "      <th>hair_len</th>\n",
       "    </tr>\n",
       "  </thead>\n",
       "  <tbody>\n",
       "    <tr>\n",
       "      <th>0</th>\n",
       "      <td>1203913055</td>\n",
       "      <td>1.80</td>\n",
       "      <td>82.1</td>\n",
       "      <td>7.5</td>\n",
       "    </tr>\n",
       "    <tr>\n",
       "      <th>1</th>\n",
       "      <td>1308952064</td>\n",
       "      <td>1.58</td>\n",
       "      <td>61.6</td>\n",
       "      <td>47.2</td>\n",
       "    </tr>\n",
       "    <tr>\n",
       "      <th>2</th>\n",
       "      <td>2410936634</td>\n",
       "      <td>1.66</td>\n",
       "      <td>73.7</td>\n",
       "      <td>28.4</td>\n",
       "    </tr>\n",
       "    <tr>\n",
       "      <th>3</th>\n",
       "      <td>1605952976</td>\n",
       "      <td>1.71</td>\n",
       "      <td>74.2</td>\n",
       "      <td>46.8</td>\n",
       "    </tr>\n",
       "    <tr>\n",
       "      <th>4</th>\n",
       "      <td>2802942759</td>\n",
       "      <td>1.91</td>\n",
       "      <td>83.8</td>\n",
       "      <td>6.3</td>\n",
       "    </tr>\n",
       "  </tbody>\n",
       "</table>\n",
       "</div>"
      ],
      "text/plain": [
       "          cpr  height  weight  hair_len\n",
       "0  1203913055    1.80    82.1       7.5\n",
       "1  1308952064    1.58    61.6      47.2\n",
       "2  2410936634    1.66    73.7      28.4\n",
       "3  1605952976    1.71    74.2      46.8\n",
       "4  2802942759    1.91    83.8       6.3"
      ]
     },
     "execution_count": 7,
     "metadata": {},
     "output_type": "execute_result"
    }
   ],
   "source": [
    "df_pers.head(5)"
   ]
  },
  {
   "cell_type": "code",
   "execution_count": 8,
   "metadata": {},
   "outputs": [],
   "source": [
    "df = pd.merge(df_demo, df_pers, on='cpr')"
   ]
  },
  {
   "cell_type": "code",
   "execution_count": 9,
   "metadata": {},
   "outputs": [
    {
     "data": {
      "text/html": [
       "<div>\n",
       "<style scoped>\n",
       "    .dataframe tbody tr th:only-of-type {\n",
       "        vertical-align: middle;\n",
       "    }\n",
       "\n",
       "    .dataframe tbody tr th {\n",
       "        vertical-align: top;\n",
       "    }\n",
       "\n",
       "    .dataframe thead th {\n",
       "        text-align: right;\n",
       "    }\n",
       "</style>\n",
       "<table border=\"1\" class=\"dataframe\">\n",
       "  <thead>\n",
       "    <tr style=\"text-align: right;\">\n",
       "      <th></th>\n",
       "      <th>cpr</th>\n",
       "      <th>municipality</th>\n",
       "      <th>salary</th>\n",
       "      <th>height</th>\n",
       "      <th>weight</th>\n",
       "      <th>hair_len</th>\n",
       "    </tr>\n",
       "  </thead>\n",
       "  <tbody>\n",
       "    <tr>\n",
       "      <th>0</th>\n",
       "      <td>1203913055</td>\n",
       "      <td>Esbjerg</td>\n",
       "      <td>377218</td>\n",
       "      <td>1.80</td>\n",
       "      <td>82.1</td>\n",
       "      <td>7.5</td>\n",
       "    </tr>\n",
       "    <tr>\n",
       "      <th>1</th>\n",
       "      <td>1308952064</td>\n",
       "      <td>Sønderborg</td>\n",
       "      <td>286903</td>\n",
       "      <td>1.58</td>\n",
       "      <td>61.6</td>\n",
       "      <td>47.2</td>\n",
       "    </tr>\n",
       "    <tr>\n",
       "      <th>2</th>\n",
       "      <td>2410936634</td>\n",
       "      <td>Thisted</td>\n",
       "      <td>337835</td>\n",
       "      <td>1.66</td>\n",
       "      <td>73.7</td>\n",
       "      <td>28.4</td>\n",
       "    </tr>\n",
       "    <tr>\n",
       "      <th>3</th>\n",
       "      <td>1605952976</td>\n",
       "      <td>København</td>\n",
       "      <td>273928</td>\n",
       "      <td>1.71</td>\n",
       "      <td>74.2</td>\n",
       "      <td>46.8</td>\n",
       "    </tr>\n",
       "    <tr>\n",
       "      <th>4</th>\n",
       "      <td>2802942759</td>\n",
       "      <td>Silkeborg</td>\n",
       "      <td>318220</td>\n",
       "      <td>1.91</td>\n",
       "      <td>83.8</td>\n",
       "      <td>6.3</td>\n",
       "    </tr>\n",
       "  </tbody>\n",
       "</table>\n",
       "</div>"
      ],
      "text/plain": [
       "          cpr municipality  salary  height  weight  hair_len\n",
       "0  1203913055      Esbjerg  377218    1.80    82.1       7.5\n",
       "1  1308952064   Sønderborg  286903    1.58    61.6      47.2\n",
       "2  2410936634      Thisted  337835    1.66    73.7      28.4\n",
       "3  1605952976    København  273928    1.71    74.2      46.8\n",
       "4  2802942759    Silkeborg  318220    1.91    83.8       6.3"
      ]
     },
     "execution_count": 9,
     "metadata": {},
     "output_type": "execute_result"
    }
   ],
   "source": [
    "df.head(5)"
   ]
  },
  {
   "cell_type": "markdown",
   "metadata": {},
   "source": [
    "#### Generer nye variable"
   ]
  },
  {
   "cell_type": "code",
   "execution_count": 10,
   "metadata": {},
   "outputs": [],
   "source": [
    "df['gender'] = df['cpr'].str[9].apply(int)\n",
    "df['gender'] = np.where(df['gender'] % 2 == 0, 'woman', 'man')"
   ]
  },
  {
   "cell_type": "code",
   "execution_count": 11,
   "metadata": {},
   "outputs": [
    {
     "data": {
      "text/html": [
       "<div>\n",
       "<style scoped>\n",
       "    .dataframe tbody tr th:only-of-type {\n",
       "        vertical-align: middle;\n",
       "    }\n",
       "\n",
       "    .dataframe tbody tr th {\n",
       "        vertical-align: top;\n",
       "    }\n",
       "\n",
       "    .dataframe thead th {\n",
       "        text-align: right;\n",
       "    }\n",
       "</style>\n",
       "<table border=\"1\" class=\"dataframe\">\n",
       "  <thead>\n",
       "    <tr style=\"text-align: right;\">\n",
       "      <th></th>\n",
       "      <th>cpr</th>\n",
       "      <th>municipality</th>\n",
       "      <th>salary</th>\n",
       "      <th>height</th>\n",
       "      <th>weight</th>\n",
       "      <th>hair_len</th>\n",
       "      <th>gender</th>\n",
       "    </tr>\n",
       "  </thead>\n",
       "  <tbody>\n",
       "    <tr>\n",
       "      <th>0</th>\n",
       "      <td>1203913055</td>\n",
       "      <td>Esbjerg</td>\n",
       "      <td>377218</td>\n",
       "      <td>1.80</td>\n",
       "      <td>82.1</td>\n",
       "      <td>7.5</td>\n",
       "      <td>man</td>\n",
       "    </tr>\n",
       "    <tr>\n",
       "      <th>1</th>\n",
       "      <td>1308952064</td>\n",
       "      <td>Sønderborg</td>\n",
       "      <td>286903</td>\n",
       "      <td>1.58</td>\n",
       "      <td>61.6</td>\n",
       "      <td>47.2</td>\n",
       "      <td>woman</td>\n",
       "    </tr>\n",
       "    <tr>\n",
       "      <th>2</th>\n",
       "      <td>2410936634</td>\n",
       "      <td>Thisted</td>\n",
       "      <td>337835</td>\n",
       "      <td>1.66</td>\n",
       "      <td>73.7</td>\n",
       "      <td>28.4</td>\n",
       "      <td>woman</td>\n",
       "    </tr>\n",
       "    <tr>\n",
       "      <th>3</th>\n",
       "      <td>1605952976</td>\n",
       "      <td>København</td>\n",
       "      <td>273928</td>\n",
       "      <td>1.71</td>\n",
       "      <td>74.2</td>\n",
       "      <td>46.8</td>\n",
       "      <td>woman</td>\n",
       "    </tr>\n",
       "    <tr>\n",
       "      <th>4</th>\n",
       "      <td>2802942759</td>\n",
       "      <td>Silkeborg</td>\n",
       "      <td>318220</td>\n",
       "      <td>1.91</td>\n",
       "      <td>83.8</td>\n",
       "      <td>6.3</td>\n",
       "      <td>man</td>\n",
       "    </tr>\n",
       "  </tbody>\n",
       "</table>\n",
       "</div>"
      ],
      "text/plain": [
       "          cpr municipality  salary  height  weight  hair_len gender\n",
       "0  1203913055      Esbjerg  377218    1.80    82.1       7.5    man\n",
       "1  1308952064   Sønderborg  286903    1.58    61.6      47.2  woman\n",
       "2  2410936634      Thisted  337835    1.66    73.7      28.4  woman\n",
       "3  1605952976    København  273928    1.71    74.2      46.8  woman\n",
       "4  2802942759    Silkeborg  318220    1.91    83.8       6.3    man"
      ]
     },
     "execution_count": 11,
     "metadata": {},
     "output_type": "execute_result"
    }
   ],
   "source": [
    "df.head(5)"
   ]
  },
  {
   "cell_type": "code",
   "execution_count": 12,
   "metadata": {},
   "outputs": [],
   "source": [
    "df['year'] = df['cpr'].str[4:6]\n",
    "df['year'] = '19' + df['year']"
   ]
  },
  {
   "cell_type": "code",
   "execution_count": 13,
   "metadata": {},
   "outputs": [],
   "source": [
    "df['month'] = df['cpr'].str[2:4]"
   ]
  },
  {
   "cell_type": "code",
   "execution_count": 14,
   "metadata": {},
   "outputs": [],
   "source": [
    "df['day'] = df['cpr'].str[0:2]"
   ]
  },
  {
   "cell_type": "code",
   "execution_count": 15,
   "metadata": {},
   "outputs": [],
   "source": [
    "df['birthday'] = pd.to_datetime(df['day'] + df['month'] + df['year'], format='%d%m%Y')"
   ]
  },
  {
   "cell_type": "code",
   "execution_count": 16,
   "metadata": {},
   "outputs": [
    {
     "data": {
      "text/html": [
       "<div>\n",
       "<style scoped>\n",
       "    .dataframe tbody tr th:only-of-type {\n",
       "        vertical-align: middle;\n",
       "    }\n",
       "\n",
       "    .dataframe tbody tr th {\n",
       "        vertical-align: top;\n",
       "    }\n",
       "\n",
       "    .dataframe thead th {\n",
       "        text-align: right;\n",
       "    }\n",
       "</style>\n",
       "<table border=\"1\" class=\"dataframe\">\n",
       "  <thead>\n",
       "    <tr style=\"text-align: right;\">\n",
       "      <th></th>\n",
       "      <th>cpr</th>\n",
       "      <th>municipality</th>\n",
       "      <th>salary</th>\n",
       "      <th>height</th>\n",
       "      <th>weight</th>\n",
       "      <th>hair_len</th>\n",
       "      <th>gender</th>\n",
       "      <th>year</th>\n",
       "      <th>month</th>\n",
       "      <th>day</th>\n",
       "      <th>birthday</th>\n",
       "    </tr>\n",
       "  </thead>\n",
       "  <tbody>\n",
       "    <tr>\n",
       "      <th>0</th>\n",
       "      <td>1203913055</td>\n",
       "      <td>Esbjerg</td>\n",
       "      <td>377218</td>\n",
       "      <td>1.80</td>\n",
       "      <td>82.1</td>\n",
       "      <td>7.5</td>\n",
       "      <td>man</td>\n",
       "      <td>1991</td>\n",
       "      <td>03</td>\n",
       "      <td>12</td>\n",
       "      <td>1991-03-12</td>\n",
       "    </tr>\n",
       "    <tr>\n",
       "      <th>1</th>\n",
       "      <td>1308952064</td>\n",
       "      <td>Sønderborg</td>\n",
       "      <td>286903</td>\n",
       "      <td>1.58</td>\n",
       "      <td>61.6</td>\n",
       "      <td>47.2</td>\n",
       "      <td>woman</td>\n",
       "      <td>1995</td>\n",
       "      <td>08</td>\n",
       "      <td>13</td>\n",
       "      <td>1995-08-13</td>\n",
       "    </tr>\n",
       "    <tr>\n",
       "      <th>2</th>\n",
       "      <td>2410936634</td>\n",
       "      <td>Thisted</td>\n",
       "      <td>337835</td>\n",
       "      <td>1.66</td>\n",
       "      <td>73.7</td>\n",
       "      <td>28.4</td>\n",
       "      <td>woman</td>\n",
       "      <td>1993</td>\n",
       "      <td>10</td>\n",
       "      <td>24</td>\n",
       "      <td>1993-10-24</td>\n",
       "    </tr>\n",
       "    <tr>\n",
       "      <th>3</th>\n",
       "      <td>1605952976</td>\n",
       "      <td>København</td>\n",
       "      <td>273928</td>\n",
       "      <td>1.71</td>\n",
       "      <td>74.2</td>\n",
       "      <td>46.8</td>\n",
       "      <td>woman</td>\n",
       "      <td>1995</td>\n",
       "      <td>05</td>\n",
       "      <td>16</td>\n",
       "      <td>1995-05-16</td>\n",
       "    </tr>\n",
       "    <tr>\n",
       "      <th>4</th>\n",
       "      <td>2802942759</td>\n",
       "      <td>Silkeborg</td>\n",
       "      <td>318220</td>\n",
       "      <td>1.91</td>\n",
       "      <td>83.8</td>\n",
       "      <td>6.3</td>\n",
       "      <td>man</td>\n",
       "      <td>1994</td>\n",
       "      <td>02</td>\n",
       "      <td>28</td>\n",
       "      <td>1994-02-28</td>\n",
       "    </tr>\n",
       "  </tbody>\n",
       "</table>\n",
       "</div>"
      ],
      "text/plain": [
       "          cpr municipality  salary  height  weight  hair_len gender  year  \\\n",
       "0  1203913055      Esbjerg  377218    1.80    82.1       7.5    man  1991   \n",
       "1  1308952064   Sønderborg  286903    1.58    61.6      47.2  woman  1995   \n",
       "2  2410936634      Thisted  337835    1.66    73.7      28.4  woman  1993   \n",
       "3  1605952976    København  273928    1.71    74.2      46.8  woman  1995   \n",
       "4  2802942759    Silkeborg  318220    1.91    83.8       6.3    man  1994   \n",
       "\n",
       "  month day   birthday  \n",
       "0    03  12 1991-03-12  \n",
       "1    08  13 1995-08-13  \n",
       "2    10  24 1993-10-24  \n",
       "3    05  16 1995-05-16  \n",
       "4    02  28 1994-02-28  "
      ]
     },
     "execution_count": 16,
     "metadata": {},
     "output_type": "execute_result"
    }
   ],
   "source": [
    "df.head(5)"
   ]
  },
  {
   "cell_type": "code",
   "execution_count": 17,
   "metadata": {},
   "outputs": [],
   "source": [
    "from datetime import datetime\n",
    "\n",
    "df['age'] = datetime.now() - df['birthday']\n",
    "df['age'] = df['age'].astype('timedelta64[Y]')"
   ]
  },
  {
   "cell_type": "code",
   "execution_count": 18,
   "metadata": {},
   "outputs": [
    {
     "data": {
      "text/html": [
       "<div>\n",
       "<style scoped>\n",
       "    .dataframe tbody tr th:only-of-type {\n",
       "        vertical-align: middle;\n",
       "    }\n",
       "\n",
       "    .dataframe tbody tr th {\n",
       "        vertical-align: top;\n",
       "    }\n",
       "\n",
       "    .dataframe thead th {\n",
       "        text-align: right;\n",
       "    }\n",
       "</style>\n",
       "<table border=\"1\" class=\"dataframe\">\n",
       "  <thead>\n",
       "    <tr style=\"text-align: right;\">\n",
       "      <th></th>\n",
       "      <th>cpr</th>\n",
       "      <th>municipality</th>\n",
       "      <th>salary</th>\n",
       "      <th>height</th>\n",
       "      <th>weight</th>\n",
       "      <th>hair_len</th>\n",
       "      <th>gender</th>\n",
       "      <th>year</th>\n",
       "      <th>month</th>\n",
       "      <th>day</th>\n",
       "      <th>birthday</th>\n",
       "      <th>age</th>\n",
       "    </tr>\n",
       "  </thead>\n",
       "  <tbody>\n",
       "    <tr>\n",
       "      <th>0</th>\n",
       "      <td>1203913055</td>\n",
       "      <td>Esbjerg</td>\n",
       "      <td>377218</td>\n",
       "      <td>1.80</td>\n",
       "      <td>82.1</td>\n",
       "      <td>7.5</td>\n",
       "      <td>man</td>\n",
       "      <td>1991</td>\n",
       "      <td>03</td>\n",
       "      <td>12</td>\n",
       "      <td>1991-03-12</td>\n",
       "      <td>28.0</td>\n",
       "    </tr>\n",
       "    <tr>\n",
       "      <th>1</th>\n",
       "      <td>1308952064</td>\n",
       "      <td>Sønderborg</td>\n",
       "      <td>286903</td>\n",
       "      <td>1.58</td>\n",
       "      <td>61.6</td>\n",
       "      <td>47.2</td>\n",
       "      <td>woman</td>\n",
       "      <td>1995</td>\n",
       "      <td>08</td>\n",
       "      <td>13</td>\n",
       "      <td>1995-08-13</td>\n",
       "      <td>23.0</td>\n",
       "    </tr>\n",
       "    <tr>\n",
       "      <th>2</th>\n",
       "      <td>2410936634</td>\n",
       "      <td>Thisted</td>\n",
       "      <td>337835</td>\n",
       "      <td>1.66</td>\n",
       "      <td>73.7</td>\n",
       "      <td>28.4</td>\n",
       "      <td>woman</td>\n",
       "      <td>1993</td>\n",
       "      <td>10</td>\n",
       "      <td>24</td>\n",
       "      <td>1993-10-24</td>\n",
       "      <td>25.0</td>\n",
       "    </tr>\n",
       "    <tr>\n",
       "      <th>3</th>\n",
       "      <td>1605952976</td>\n",
       "      <td>København</td>\n",
       "      <td>273928</td>\n",
       "      <td>1.71</td>\n",
       "      <td>74.2</td>\n",
       "      <td>46.8</td>\n",
       "      <td>woman</td>\n",
       "      <td>1995</td>\n",
       "      <td>05</td>\n",
       "      <td>16</td>\n",
       "      <td>1995-05-16</td>\n",
       "      <td>24.0</td>\n",
       "    </tr>\n",
       "    <tr>\n",
       "      <th>4</th>\n",
       "      <td>2802942759</td>\n",
       "      <td>Silkeborg</td>\n",
       "      <td>318220</td>\n",
       "      <td>1.91</td>\n",
       "      <td>83.8</td>\n",
       "      <td>6.3</td>\n",
       "      <td>man</td>\n",
       "      <td>1994</td>\n",
       "      <td>02</td>\n",
       "      <td>28</td>\n",
       "      <td>1994-02-28</td>\n",
       "      <td>25.0</td>\n",
       "    </tr>\n",
       "  </tbody>\n",
       "</table>\n",
       "</div>"
      ],
      "text/plain": [
       "          cpr municipality  salary  height  weight  hair_len gender  year  \\\n",
       "0  1203913055      Esbjerg  377218    1.80    82.1       7.5    man  1991   \n",
       "1  1308952064   Sønderborg  286903    1.58    61.6      47.2  woman  1995   \n",
       "2  2410936634      Thisted  337835    1.66    73.7      28.4  woman  1993   \n",
       "3  1605952976    København  273928    1.71    74.2      46.8  woman  1995   \n",
       "4  2802942759    Silkeborg  318220    1.91    83.8       6.3    man  1994   \n",
       "\n",
       "  month day   birthday   age  \n",
       "0    03  12 1991-03-12  28.0  \n",
       "1    08  13 1995-08-13  23.0  \n",
       "2    10  24 1993-10-24  25.0  \n",
       "3    05  16 1995-05-16  24.0  \n",
       "4    02  28 1994-02-28  25.0  "
      ]
     },
     "execution_count": 18,
     "metadata": {},
     "output_type": "execute_result"
    }
   ],
   "source": [
    "df.head(5)"
   ]
  },
  {
   "cell_type": "markdown",
   "metadata": {},
   "source": [
    "## Split into train and test set"
   ]
  },
  {
   "cell_type": "code",
   "execution_count": 19,
   "metadata": {},
   "outputs": [],
   "source": [
    "X = df[['weight', 'height']].values\n",
    "y = df['gender'].values"
   ]
  },
  {
   "cell_type": "code",
   "execution_count": 20,
   "metadata": {},
   "outputs": [
    {
     "data": {
      "text/plain": [
       "array([[82.1 ,  1.8 ],\n",
       "       [61.6 ,  1.58],\n",
       "       [73.7 ,  1.66],\n",
       "       ...,\n",
       "       [78.7 ,  1.67],\n",
       "       [84.5 ,  1.91],\n",
       "       [66.  ,  1.82]])"
      ]
     },
     "execution_count": 20,
     "metadata": {},
     "output_type": "execute_result"
    }
   ],
   "source": [
    "X"
   ]
  },
  {
   "cell_type": "code",
   "execution_count": 21,
   "metadata": {},
   "outputs": [
    {
     "data": {
      "text/plain": [
       "array(['man', 'woman', 'woman', ..., 'woman', 'man', 'woman'],\n",
       "      dtype=object)"
      ]
     },
     "execution_count": 21,
     "metadata": {},
     "output_type": "execute_result"
    }
   ],
   "source": [
    "y"
   ]
  },
  {
   "cell_type": "code",
   "execution_count": 22,
   "metadata": {},
   "outputs": [],
   "source": [
    "from sklearn.model_selection import train_test_split\n",
    "\n",
    "X_train, X_test, y_train, y_test = train_test_split(X, y, test_size=0.2, random_state=0)"
   ]
  },
  {
   "cell_type": "code",
   "execution_count": 23,
   "metadata": {},
   "outputs": [
    {
     "name": "stdout",
     "output_type": "stream",
     "text": [
      "(7767, 2)\n",
      "(6213, 2)\n",
      "(1554, 2)\n"
     ]
    }
   ],
   "source": [
    "print(X.shape)\n",
    "print(X_train.shape)\n",
    "print(X_test.shape)"
   ]
  },
  {
   "cell_type": "markdown",
   "metadata": {},
   "source": [
    "## Build and train model"
   ]
  },
  {
   "cell_type": "code",
   "execution_count": 24,
   "metadata": {},
   "outputs": [],
   "source": [
    "from sklearn.neighbors import KNeighborsClassifier"
   ]
  },
  {
   "cell_type": "code",
   "execution_count": 25,
   "metadata": {},
   "outputs": [],
   "source": [
    "model = KNeighborsClassifier(n_neighbors=2)"
   ]
  },
  {
   "cell_type": "code",
   "execution_count": 27,
   "metadata": {},
   "outputs": [
    {
     "data": {
      "text/plain": [
       "KNeighborsClassifier(algorithm='auto', leaf_size=30, metric='minkowski',\n",
       "           metric_params=None, n_jobs=None, n_neighbors=2, p=2,\n",
       "           weights='uniform')"
      ]
     },
     "execution_count": 27,
     "metadata": {},
     "output_type": "execute_result"
    }
   ],
   "source": [
    "model.fit(X_train, y_train) "
   ]
  },
  {
   "cell_type": "code",
   "execution_count": 30,
   "metadata": {},
   "outputs": [
    {
     "name": "stdout",
     "output_type": "stream",
     "text": [
      "2\n",
      "['man' 'woman']\n"
     ]
    }
   ],
   "source": [
    "print(model.n_neighbors)\n",
    "print(model.classes_)"
   ]
  },
  {
   "cell_type": "markdown",
   "metadata": {},
   "source": [
    "## Make predictions"
   ]
  },
  {
   "cell_type": "code",
   "execution_count": null,
   "metadata": {},
   "outputs": [],
   "source": [
    "pred = "
   ]
  },
  {
   "cell_type": "code",
   "execution_count": null,
   "metadata": {},
   "outputs": [],
   "source": [
    "print(model.predict([[1.1]]))\n",
    "print(model.predict_proba([[0.9]]))"
   ]
  },
  {
   "cell_type": "code",
   "execution_count": null,
   "metadata": {},
   "outputs": [],
   "source": [
    "y_pred = log_reg.predict(X_test)"
   ]
  },
  {
   "cell_type": "markdown",
   "metadata": {},
   "source": [
    "## Performance metrics"
   ]
  },
  {
   "cell_type": "code",
   "execution_count": null,
   "metadata": {},
   "outputs": [],
   "source": [
    "print(confusion_matrix(y_test, y_pred))\n",
    "print(accuracy_score(y_test, y_pred))\n",
    "print(sum(y_test == y_pred) / len(y_test))"
   ]
  },
  {
   "cell_type": "markdown",
   "metadata": {},
   "source": [
    "## Visualize"
   ]
  },
  {
   "cell_type": "code",
   "execution_count": null,
   "metadata": {},
   "outputs": [],
   "source": [
    "N = 1500\n",
    "df_gender = df[df['gender'] == 'man']\n",
    "\n",
    "heights = df_gender['height'].values\n",
    "heights = np.random.choice(heights, size=N)\n",
    "\n",
    "weights = df_gender['weight'].values\n",
    "weights = np.random.choice(weights, size=N)\n",
    "\n",
    "slope, intercept, r_value, p_value, std_err = stats.linregress(weights, heights)"
   ]
  },
  {
   "cell_type": "code",
   "execution_count": null,
   "metadata": {},
   "outputs": [],
   "source": [
    "import matplotlib.pyplot as plt\n",
    "\n",
    "plt.figure(figsize=(7,7))\n",
    "plt.plot(weights, heights, 'b.', weights, slope * weights + intercept, 'r-')\n",
    "plt.axis([40, 110, 1.4, 2.2])\n",
    "plt.xlabel('weight')\n",
    "plt.ylabel('height')\n",
    "plt.title('Hvordan er data fordelt?')\n",
    "plt.show()"
   ]
  },
  {
   "cell_type": "code",
   "execution_count": null,
   "metadata": {},
   "outputs": [],
   "source": [
    "weights = X_scale[:, 0]\n",
    "heights = X_scale[:, 1]\n",
    "\n",
    "color_true = np.where(df['gender'] == 'man', 'b', 'r')\n",
    "color_pred = np.where(df['cluster'] == 1, 'c', 'm')"
   ]
  },
  {
   "cell_type": "markdown",
   "metadata": {},
   "source": [
    "## Fine tune model"
   ]
  },
  {
   "cell_type": "code",
   "execution_count": null,
   "metadata": {},
   "outputs": [],
   "source": []
  },
  {
   "cell_type": "markdown",
   "metadata": {},
   "source": [
    "## Øvelser"
   ]
  },
  {
   "cell_type": "code",
   "execution_count": null,
   "metadata": {},
   "outputs": [],
   "source": []
  }
 ],
 "metadata": {
  "kernelspec": {
   "display_name": "Intro ML",
   "language": "python",
   "name": "intro_ml"
  },
  "language_info": {
   "codemirror_mode": {
    "name": "ipython",
    "version": 3
   },
   "file_extension": ".py",
   "mimetype": "text/x-python",
   "name": "python",
   "nbconvert_exporter": "python",
   "pygments_lexer": "ipython3",
   "version": "3.7.0"
  }
 },
 "nbformat": 4,
 "nbformat_minor": 2
}

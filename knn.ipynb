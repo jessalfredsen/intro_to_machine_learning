{
 "cells": [
  {
   "cell_type": "markdown",
   "metadata": {},
   "source": [
    "# Import libraries"
   ]
  },
  {
   "cell_type": "code",
   "execution_count": 1,
   "metadata": {},
   "outputs": [],
   "source": [
    "%matplotlib inline\n",
    "\n",
    "import pandas as pd\n",
    "import numpy as np"
   ]
  },
  {
   "cell_type": "markdown",
   "metadata": {},
   "source": [
    "# Load data"
   ]
  },
  {
   "cell_type": "code",
   "execution_count": 2,
   "metadata": {},
   "outputs": [],
   "source": [
    "df_demo = pd.read_csv('Data/df_demography.csv', sep=',', dtype={'cpr': str})\n",
    "df_pers = pd.read_csv('Data/df_personal_characteristic.csv', sep=',', dtype={'cpr': str})"
   ]
  },
  {
   "cell_type": "code",
   "execution_count": 3,
   "metadata": {},
   "outputs": [],
   "source": [
    "df_pers.to_pickle('Data/df_personal_characteristic.pkl')"
   ]
  },
  {
   "cell_type": "code",
   "execution_count": 4,
   "metadata": {},
   "outputs": [],
   "source": [
    "df_pers = pd.read_pickle('Data/df_personal_characteristic.pkl')"
   ]
  },
  {
   "cell_type": "markdown",
   "metadata": {},
   "source": [
    "# Data preprocessing / Feature engineering"
   ]
  },
  {
   "cell_type": "markdown",
   "metadata": {},
   "source": [
    "#### Merge datakilder"
   ]
  },
  {
   "cell_type": "code",
   "execution_count": 5,
   "metadata": {},
   "outputs": [
    {
     "data": {
      "text/html": [
       "<div>\n",
       "<style scoped>\n",
       "    .dataframe tbody tr th:only-of-type {\n",
       "        vertical-align: middle;\n",
       "    }\n",
       "\n",
       "    .dataframe tbody tr th {\n",
       "        vertical-align: top;\n",
       "    }\n",
       "\n",
       "    .dataframe thead th {\n",
       "        text-align: right;\n",
       "    }\n",
       "</style>\n",
       "<table border=\"1\" class=\"dataframe\">\n",
       "  <thead>\n",
       "    <tr style=\"text-align: right;\">\n",
       "      <th></th>\n",
       "      <th>cpr</th>\n",
       "      <th>municipality</th>\n",
       "      <th>salary</th>\n",
       "    </tr>\n",
       "  </thead>\n",
       "  <tbody>\n",
       "    <tr>\n",
       "      <th>0</th>\n",
       "      <td>1203913055</td>\n",
       "      <td>Esbjerg</td>\n",
       "      <td>377218</td>\n",
       "    </tr>\n",
       "    <tr>\n",
       "      <th>1</th>\n",
       "      <td>1308952064</td>\n",
       "      <td>Sønderborg</td>\n",
       "      <td>286903</td>\n",
       "    </tr>\n",
       "    <tr>\n",
       "      <th>2</th>\n",
       "      <td>2410936634</td>\n",
       "      <td>Thisted</td>\n",
       "      <td>337835</td>\n",
       "    </tr>\n",
       "    <tr>\n",
       "      <th>3</th>\n",
       "      <td>1605952976</td>\n",
       "      <td>København</td>\n",
       "      <td>273928</td>\n",
       "    </tr>\n",
       "    <tr>\n",
       "      <th>4</th>\n",
       "      <td>2802942759</td>\n",
       "      <td>Silkeborg</td>\n",
       "      <td>318220</td>\n",
       "    </tr>\n",
       "  </tbody>\n",
       "</table>\n",
       "</div>"
      ],
      "text/plain": [
       "          cpr municipality  salary\n",
       "0  1203913055      Esbjerg  377218\n",
       "1  1308952064   Sønderborg  286903\n",
       "2  2410936634      Thisted  337835\n",
       "3  1605952976    København  273928\n",
       "4  2802942759    Silkeborg  318220"
      ]
     },
     "execution_count": 5,
     "metadata": {},
     "output_type": "execute_result"
    }
   ],
   "source": [
    "df_demo.head(5)"
   ]
  },
  {
   "cell_type": "code",
   "execution_count": 6,
   "metadata": {},
   "outputs": [
    {
     "data": {
      "text/html": [
       "<div>\n",
       "<style scoped>\n",
       "    .dataframe tbody tr th:only-of-type {\n",
       "        vertical-align: middle;\n",
       "    }\n",
       "\n",
       "    .dataframe tbody tr th {\n",
       "        vertical-align: top;\n",
       "    }\n",
       "\n",
       "    .dataframe thead th {\n",
       "        text-align: right;\n",
       "    }\n",
       "</style>\n",
       "<table border=\"1\" class=\"dataframe\">\n",
       "  <thead>\n",
       "    <tr style=\"text-align: right;\">\n",
       "      <th></th>\n",
       "      <th>cpr</th>\n",
       "      <th>height</th>\n",
       "      <th>weight</th>\n",
       "      <th>hair_len</th>\n",
       "    </tr>\n",
       "  </thead>\n",
       "  <tbody>\n",
       "    <tr>\n",
       "      <th>0</th>\n",
       "      <td>1203913055</td>\n",
       "      <td>1.80</td>\n",
       "      <td>82.1</td>\n",
       "      <td>7.5</td>\n",
       "    </tr>\n",
       "    <tr>\n",
       "      <th>1</th>\n",
       "      <td>1308952064</td>\n",
       "      <td>1.58</td>\n",
       "      <td>61.6</td>\n",
       "      <td>47.2</td>\n",
       "    </tr>\n",
       "    <tr>\n",
       "      <th>2</th>\n",
       "      <td>2410936634</td>\n",
       "      <td>1.66</td>\n",
       "      <td>73.7</td>\n",
       "      <td>28.4</td>\n",
       "    </tr>\n",
       "    <tr>\n",
       "      <th>3</th>\n",
       "      <td>1605952976</td>\n",
       "      <td>1.71</td>\n",
       "      <td>74.2</td>\n",
       "      <td>46.8</td>\n",
       "    </tr>\n",
       "    <tr>\n",
       "      <th>4</th>\n",
       "      <td>2802942759</td>\n",
       "      <td>1.91</td>\n",
       "      <td>83.8</td>\n",
       "      <td>6.3</td>\n",
       "    </tr>\n",
       "  </tbody>\n",
       "</table>\n",
       "</div>"
      ],
      "text/plain": [
       "          cpr  height  weight  hair_len\n",
       "0  1203913055    1.80    82.1       7.5\n",
       "1  1308952064    1.58    61.6      47.2\n",
       "2  2410936634    1.66    73.7      28.4\n",
       "3  1605952976    1.71    74.2      46.8\n",
       "4  2802942759    1.91    83.8       6.3"
      ]
     },
     "execution_count": 6,
     "metadata": {},
     "output_type": "execute_result"
    }
   ],
   "source": [
    "df_pers.head(5)"
   ]
  },
  {
   "cell_type": "code",
   "execution_count": 7,
   "metadata": {},
   "outputs": [],
   "source": [
    "df = pd.merge(df_demo, df_pers, on='cpr')"
   ]
  },
  {
   "cell_type": "code",
   "execution_count": 8,
   "metadata": {},
   "outputs": [
    {
     "data": {
      "text/html": [
       "<div>\n",
       "<style scoped>\n",
       "    .dataframe tbody tr th:only-of-type {\n",
       "        vertical-align: middle;\n",
       "    }\n",
       "\n",
       "    .dataframe tbody tr th {\n",
       "        vertical-align: top;\n",
       "    }\n",
       "\n",
       "    .dataframe thead th {\n",
       "        text-align: right;\n",
       "    }\n",
       "</style>\n",
       "<table border=\"1\" class=\"dataframe\">\n",
       "  <thead>\n",
       "    <tr style=\"text-align: right;\">\n",
       "      <th></th>\n",
       "      <th>cpr</th>\n",
       "      <th>municipality</th>\n",
       "      <th>salary</th>\n",
       "      <th>height</th>\n",
       "      <th>weight</th>\n",
       "      <th>hair_len</th>\n",
       "    </tr>\n",
       "  </thead>\n",
       "  <tbody>\n",
       "    <tr>\n",
       "      <th>0</th>\n",
       "      <td>1203913055</td>\n",
       "      <td>Esbjerg</td>\n",
       "      <td>377218</td>\n",
       "      <td>1.80</td>\n",
       "      <td>82.1</td>\n",
       "      <td>7.5</td>\n",
       "    </tr>\n",
       "    <tr>\n",
       "      <th>1</th>\n",
       "      <td>1308952064</td>\n",
       "      <td>Sønderborg</td>\n",
       "      <td>286903</td>\n",
       "      <td>1.58</td>\n",
       "      <td>61.6</td>\n",
       "      <td>47.2</td>\n",
       "    </tr>\n",
       "    <tr>\n",
       "      <th>2</th>\n",
       "      <td>2410936634</td>\n",
       "      <td>Thisted</td>\n",
       "      <td>337835</td>\n",
       "      <td>1.66</td>\n",
       "      <td>73.7</td>\n",
       "      <td>28.4</td>\n",
       "    </tr>\n",
       "    <tr>\n",
       "      <th>3</th>\n",
       "      <td>1605952976</td>\n",
       "      <td>København</td>\n",
       "      <td>273928</td>\n",
       "      <td>1.71</td>\n",
       "      <td>74.2</td>\n",
       "      <td>46.8</td>\n",
       "    </tr>\n",
       "    <tr>\n",
       "      <th>4</th>\n",
       "      <td>2802942759</td>\n",
       "      <td>Silkeborg</td>\n",
       "      <td>318220</td>\n",
       "      <td>1.91</td>\n",
       "      <td>83.8</td>\n",
       "      <td>6.3</td>\n",
       "    </tr>\n",
       "  </tbody>\n",
       "</table>\n",
       "</div>"
      ],
      "text/plain": [
       "          cpr municipality  salary  height  weight  hair_len\n",
       "0  1203913055      Esbjerg  377218    1.80    82.1       7.5\n",
       "1  1308952064   Sønderborg  286903    1.58    61.6      47.2\n",
       "2  2410936634      Thisted  337835    1.66    73.7      28.4\n",
       "3  1605952976    København  273928    1.71    74.2      46.8\n",
       "4  2802942759    Silkeborg  318220    1.91    83.8       6.3"
      ]
     },
     "execution_count": 8,
     "metadata": {},
     "output_type": "execute_result"
    }
   ],
   "source": [
    "df.head(5)"
   ]
  },
  {
   "cell_type": "code",
   "execution_count": 9,
   "metadata": {},
   "outputs": [
    {
     "data": {
      "text/plain": [
       "7767"
      ]
     },
     "execution_count": 9,
     "metadata": {},
     "output_type": "execute_result"
    }
   ],
   "source": [
    "len(df)"
   ]
  },
  {
   "cell_type": "markdown",
   "metadata": {},
   "source": [
    "#### Generer nye variable"
   ]
  },
  {
   "cell_type": "code",
   "execution_count": 10,
   "metadata": {},
   "outputs": [],
   "source": [
    "df['gender'] = df['cpr'].str[9].apply(int)\n",
    "df['gender'] = np.where(df['gender'] % 2 == 0, 'woman', 'man')"
   ]
  },
  {
   "cell_type": "code",
   "execution_count": 11,
   "metadata": {},
   "outputs": [
    {
     "data": {
      "text/html": [
       "<div>\n",
       "<style scoped>\n",
       "    .dataframe tbody tr th:only-of-type {\n",
       "        vertical-align: middle;\n",
       "    }\n",
       "\n",
       "    .dataframe tbody tr th {\n",
       "        vertical-align: top;\n",
       "    }\n",
       "\n",
       "    .dataframe thead th {\n",
       "        text-align: right;\n",
       "    }\n",
       "</style>\n",
       "<table border=\"1\" class=\"dataframe\">\n",
       "  <thead>\n",
       "    <tr style=\"text-align: right;\">\n",
       "      <th></th>\n",
       "      <th>cpr</th>\n",
       "      <th>municipality</th>\n",
       "      <th>salary</th>\n",
       "      <th>height</th>\n",
       "      <th>weight</th>\n",
       "      <th>hair_len</th>\n",
       "      <th>gender</th>\n",
       "    </tr>\n",
       "  </thead>\n",
       "  <tbody>\n",
       "    <tr>\n",
       "      <th>0</th>\n",
       "      <td>1203913055</td>\n",
       "      <td>Esbjerg</td>\n",
       "      <td>377218</td>\n",
       "      <td>1.80</td>\n",
       "      <td>82.1</td>\n",
       "      <td>7.5</td>\n",
       "      <td>man</td>\n",
       "    </tr>\n",
       "    <tr>\n",
       "      <th>1</th>\n",
       "      <td>1308952064</td>\n",
       "      <td>Sønderborg</td>\n",
       "      <td>286903</td>\n",
       "      <td>1.58</td>\n",
       "      <td>61.6</td>\n",
       "      <td>47.2</td>\n",
       "      <td>woman</td>\n",
       "    </tr>\n",
       "    <tr>\n",
       "      <th>2</th>\n",
       "      <td>2410936634</td>\n",
       "      <td>Thisted</td>\n",
       "      <td>337835</td>\n",
       "      <td>1.66</td>\n",
       "      <td>73.7</td>\n",
       "      <td>28.4</td>\n",
       "      <td>woman</td>\n",
       "    </tr>\n",
       "    <tr>\n",
       "      <th>3</th>\n",
       "      <td>1605952976</td>\n",
       "      <td>København</td>\n",
       "      <td>273928</td>\n",
       "      <td>1.71</td>\n",
       "      <td>74.2</td>\n",
       "      <td>46.8</td>\n",
       "      <td>woman</td>\n",
       "    </tr>\n",
       "    <tr>\n",
       "      <th>4</th>\n",
       "      <td>2802942759</td>\n",
       "      <td>Silkeborg</td>\n",
       "      <td>318220</td>\n",
       "      <td>1.91</td>\n",
       "      <td>83.8</td>\n",
       "      <td>6.3</td>\n",
       "      <td>man</td>\n",
       "    </tr>\n",
       "  </tbody>\n",
       "</table>\n",
       "</div>"
      ],
      "text/plain": [
       "          cpr municipality  salary  height  weight  hair_len gender\n",
       "0  1203913055      Esbjerg  377218    1.80    82.1       7.5    man\n",
       "1  1308952064   Sønderborg  286903    1.58    61.6      47.2  woman\n",
       "2  2410936634      Thisted  337835    1.66    73.7      28.4  woman\n",
       "3  1605952976    København  273928    1.71    74.2      46.8  woman\n",
       "4  2802942759    Silkeborg  318220    1.91    83.8       6.3    man"
      ]
     },
     "execution_count": 11,
     "metadata": {},
     "output_type": "execute_result"
    }
   ],
   "source": [
    "df.head(5)"
   ]
  },
  {
   "cell_type": "code",
   "execution_count": 12,
   "metadata": {},
   "outputs": [],
   "source": [
    "df['year'] = df['cpr'].str[4:6]\n",
    "df['year'] = '19' + df['year']"
   ]
  },
  {
   "cell_type": "code",
   "execution_count": 13,
   "metadata": {},
   "outputs": [],
   "source": [
    "df['month'] = df['cpr'].str[2:4]"
   ]
  },
  {
   "cell_type": "code",
   "execution_count": 14,
   "metadata": {},
   "outputs": [],
   "source": [
    "df['day'] = df['cpr'].str[0:2]"
   ]
  },
  {
   "cell_type": "code",
   "execution_count": 15,
   "metadata": {},
   "outputs": [],
   "source": [
    "df['birthday'] = pd.to_datetime(df['day'] + df['month'] + df['year'], format='%d%m%Y')"
   ]
  },
  {
   "cell_type": "code",
   "execution_count": 16,
   "metadata": {},
   "outputs": [
    {
     "data": {
      "text/html": [
       "<div>\n",
       "<style scoped>\n",
       "    .dataframe tbody tr th:only-of-type {\n",
       "        vertical-align: middle;\n",
       "    }\n",
       "\n",
       "    .dataframe tbody tr th {\n",
       "        vertical-align: top;\n",
       "    }\n",
       "\n",
       "    .dataframe thead th {\n",
       "        text-align: right;\n",
       "    }\n",
       "</style>\n",
       "<table border=\"1\" class=\"dataframe\">\n",
       "  <thead>\n",
       "    <tr style=\"text-align: right;\">\n",
       "      <th></th>\n",
       "      <th>cpr</th>\n",
       "      <th>municipality</th>\n",
       "      <th>salary</th>\n",
       "      <th>height</th>\n",
       "      <th>weight</th>\n",
       "      <th>hair_len</th>\n",
       "      <th>gender</th>\n",
       "      <th>year</th>\n",
       "      <th>month</th>\n",
       "      <th>day</th>\n",
       "      <th>birthday</th>\n",
       "    </tr>\n",
       "  </thead>\n",
       "  <tbody>\n",
       "    <tr>\n",
       "      <th>0</th>\n",
       "      <td>1203913055</td>\n",
       "      <td>Esbjerg</td>\n",
       "      <td>377218</td>\n",
       "      <td>1.80</td>\n",
       "      <td>82.1</td>\n",
       "      <td>7.5</td>\n",
       "      <td>man</td>\n",
       "      <td>1991</td>\n",
       "      <td>03</td>\n",
       "      <td>12</td>\n",
       "      <td>1991-03-12</td>\n",
       "    </tr>\n",
       "    <tr>\n",
       "      <th>1</th>\n",
       "      <td>1308952064</td>\n",
       "      <td>Sønderborg</td>\n",
       "      <td>286903</td>\n",
       "      <td>1.58</td>\n",
       "      <td>61.6</td>\n",
       "      <td>47.2</td>\n",
       "      <td>woman</td>\n",
       "      <td>1995</td>\n",
       "      <td>08</td>\n",
       "      <td>13</td>\n",
       "      <td>1995-08-13</td>\n",
       "    </tr>\n",
       "    <tr>\n",
       "      <th>2</th>\n",
       "      <td>2410936634</td>\n",
       "      <td>Thisted</td>\n",
       "      <td>337835</td>\n",
       "      <td>1.66</td>\n",
       "      <td>73.7</td>\n",
       "      <td>28.4</td>\n",
       "      <td>woman</td>\n",
       "      <td>1993</td>\n",
       "      <td>10</td>\n",
       "      <td>24</td>\n",
       "      <td>1993-10-24</td>\n",
       "    </tr>\n",
       "    <tr>\n",
       "      <th>3</th>\n",
       "      <td>1605952976</td>\n",
       "      <td>København</td>\n",
       "      <td>273928</td>\n",
       "      <td>1.71</td>\n",
       "      <td>74.2</td>\n",
       "      <td>46.8</td>\n",
       "      <td>woman</td>\n",
       "      <td>1995</td>\n",
       "      <td>05</td>\n",
       "      <td>16</td>\n",
       "      <td>1995-05-16</td>\n",
       "    </tr>\n",
       "    <tr>\n",
       "      <th>4</th>\n",
       "      <td>2802942759</td>\n",
       "      <td>Silkeborg</td>\n",
       "      <td>318220</td>\n",
       "      <td>1.91</td>\n",
       "      <td>83.8</td>\n",
       "      <td>6.3</td>\n",
       "      <td>man</td>\n",
       "      <td>1994</td>\n",
       "      <td>02</td>\n",
       "      <td>28</td>\n",
       "      <td>1994-02-28</td>\n",
       "    </tr>\n",
       "  </tbody>\n",
       "</table>\n",
       "</div>"
      ],
      "text/plain": [
       "          cpr municipality  salary  height  weight  hair_len gender  year  \\\n",
       "0  1203913055      Esbjerg  377218    1.80    82.1       7.5    man  1991   \n",
       "1  1308952064   Sønderborg  286903    1.58    61.6      47.2  woman  1995   \n",
       "2  2410936634      Thisted  337835    1.66    73.7      28.4  woman  1993   \n",
       "3  1605952976    København  273928    1.71    74.2      46.8  woman  1995   \n",
       "4  2802942759    Silkeborg  318220    1.91    83.8       6.3    man  1994   \n",
       "\n",
       "  month day   birthday  \n",
       "0    03  12 1991-03-12  \n",
       "1    08  13 1995-08-13  \n",
       "2    10  24 1993-10-24  \n",
       "3    05  16 1995-05-16  \n",
       "4    02  28 1994-02-28  "
      ]
     },
     "execution_count": 16,
     "metadata": {},
     "output_type": "execute_result"
    }
   ],
   "source": [
    "df.head(5)"
   ]
  },
  {
   "cell_type": "code",
   "execution_count": 17,
   "metadata": {},
   "outputs": [],
   "source": [
    "from datetime import datetime\n",
    "\n",
    "df['age'] = datetime.now() - df['birthday']\n",
    "df['age'] = df['age'].astype('timedelta64[Y]')"
   ]
  },
  {
   "cell_type": "code",
   "execution_count": 18,
   "metadata": {},
   "outputs": [
    {
     "data": {
      "text/html": [
       "<div>\n",
       "<style scoped>\n",
       "    .dataframe tbody tr th:only-of-type {\n",
       "        vertical-align: middle;\n",
       "    }\n",
       "\n",
       "    .dataframe tbody tr th {\n",
       "        vertical-align: top;\n",
       "    }\n",
       "\n",
       "    .dataframe thead th {\n",
       "        text-align: right;\n",
       "    }\n",
       "</style>\n",
       "<table border=\"1\" class=\"dataframe\">\n",
       "  <thead>\n",
       "    <tr style=\"text-align: right;\">\n",
       "      <th></th>\n",
       "      <th>cpr</th>\n",
       "      <th>municipality</th>\n",
       "      <th>salary</th>\n",
       "      <th>height</th>\n",
       "      <th>weight</th>\n",
       "      <th>hair_len</th>\n",
       "      <th>gender</th>\n",
       "      <th>year</th>\n",
       "      <th>month</th>\n",
       "      <th>day</th>\n",
       "      <th>birthday</th>\n",
       "      <th>age</th>\n",
       "    </tr>\n",
       "  </thead>\n",
       "  <tbody>\n",
       "    <tr>\n",
       "      <th>0</th>\n",
       "      <td>1203913055</td>\n",
       "      <td>Esbjerg</td>\n",
       "      <td>377218</td>\n",
       "      <td>1.80</td>\n",
       "      <td>82.1</td>\n",
       "      <td>7.5</td>\n",
       "      <td>man</td>\n",
       "      <td>1991</td>\n",
       "      <td>03</td>\n",
       "      <td>12</td>\n",
       "      <td>1991-03-12</td>\n",
       "      <td>28.0</td>\n",
       "    </tr>\n",
       "    <tr>\n",
       "      <th>1</th>\n",
       "      <td>1308952064</td>\n",
       "      <td>Sønderborg</td>\n",
       "      <td>286903</td>\n",
       "      <td>1.58</td>\n",
       "      <td>61.6</td>\n",
       "      <td>47.2</td>\n",
       "      <td>woman</td>\n",
       "      <td>1995</td>\n",
       "      <td>08</td>\n",
       "      <td>13</td>\n",
       "      <td>1995-08-13</td>\n",
       "      <td>23.0</td>\n",
       "    </tr>\n",
       "    <tr>\n",
       "      <th>2</th>\n",
       "      <td>2410936634</td>\n",
       "      <td>Thisted</td>\n",
       "      <td>337835</td>\n",
       "      <td>1.66</td>\n",
       "      <td>73.7</td>\n",
       "      <td>28.4</td>\n",
       "      <td>woman</td>\n",
       "      <td>1993</td>\n",
       "      <td>10</td>\n",
       "      <td>24</td>\n",
       "      <td>1993-10-24</td>\n",
       "      <td>25.0</td>\n",
       "    </tr>\n",
       "    <tr>\n",
       "      <th>3</th>\n",
       "      <td>1605952976</td>\n",
       "      <td>København</td>\n",
       "      <td>273928</td>\n",
       "      <td>1.71</td>\n",
       "      <td>74.2</td>\n",
       "      <td>46.8</td>\n",
       "      <td>woman</td>\n",
       "      <td>1995</td>\n",
       "      <td>05</td>\n",
       "      <td>16</td>\n",
       "      <td>1995-05-16</td>\n",
       "      <td>24.0</td>\n",
       "    </tr>\n",
       "    <tr>\n",
       "      <th>4</th>\n",
       "      <td>2802942759</td>\n",
       "      <td>Silkeborg</td>\n",
       "      <td>318220</td>\n",
       "      <td>1.91</td>\n",
       "      <td>83.8</td>\n",
       "      <td>6.3</td>\n",
       "      <td>man</td>\n",
       "      <td>1994</td>\n",
       "      <td>02</td>\n",
       "      <td>28</td>\n",
       "      <td>1994-02-28</td>\n",
       "      <td>25.0</td>\n",
       "    </tr>\n",
       "  </tbody>\n",
       "</table>\n",
       "</div>"
      ],
      "text/plain": [
       "          cpr municipality  salary  height  weight  hair_len gender  year  \\\n",
       "0  1203913055      Esbjerg  377218    1.80    82.1       7.5    man  1991   \n",
       "1  1308952064   Sønderborg  286903    1.58    61.6      47.2  woman  1995   \n",
       "2  2410936634      Thisted  337835    1.66    73.7      28.4  woman  1993   \n",
       "3  1605952976    København  273928    1.71    74.2      46.8  woman  1995   \n",
       "4  2802942759    Silkeborg  318220    1.91    83.8       6.3    man  1994   \n",
       "\n",
       "  month day   birthday   age  \n",
       "0    03  12 1991-03-12  28.0  \n",
       "1    08  13 1995-08-13  23.0  \n",
       "2    10  24 1993-10-24  25.0  \n",
       "3    05  16 1995-05-16  24.0  \n",
       "4    02  28 1994-02-28  25.0  "
      ]
     },
     "execution_count": 18,
     "metadata": {},
     "output_type": "execute_result"
    }
   ],
   "source": [
    "df.head(5)"
   ]
  },
  {
   "cell_type": "code",
   "execution_count": 19,
   "metadata": {},
   "outputs": [],
   "source": [
    "df = df.iloc[:1500]"
   ]
  },
  {
   "cell_type": "markdown",
   "metadata": {},
   "source": [
    "# Split into train and test set"
   ]
  },
  {
   "cell_type": "code",
   "execution_count": 20,
   "metadata": {},
   "outputs": [],
   "source": [
    "X = df[['weight', 'height']].values\n",
    "y = df['gender'].values"
   ]
  },
  {
   "cell_type": "code",
   "execution_count": 21,
   "metadata": {},
   "outputs": [
    {
     "data": {
      "text/plain": [
       "array([[82.1 ,  1.8 ],\n",
       "       [61.6 ,  1.58],\n",
       "       [73.7 ,  1.66],\n",
       "       ...,\n",
       "       [83.9 ,  1.8 ],\n",
       "       [84.2 ,  1.87],\n",
       "       [88.8 ,  1.7 ]])"
      ]
     },
     "execution_count": 21,
     "metadata": {},
     "output_type": "execute_result"
    }
   ],
   "source": [
    "X"
   ]
  },
  {
   "cell_type": "code",
   "execution_count": 22,
   "metadata": {},
   "outputs": [
    {
     "data": {
      "text/plain": [
       "array(['man', 'woman', 'woman', ..., 'man', 'man', 'man'], dtype=object)"
      ]
     },
     "execution_count": 22,
     "metadata": {},
     "output_type": "execute_result"
    }
   ],
   "source": [
    "y"
   ]
  },
  {
   "cell_type": "code",
   "execution_count": 23,
   "metadata": {},
   "outputs": [],
   "source": [
    "from sklearn.model_selection import train_test_split\n",
    "\n",
    "X_train, X_test, y_train, y_test = train_test_split(X, y, test_size=0.2, random_state=0)"
   ]
  },
  {
   "cell_type": "code",
   "execution_count": 24,
   "metadata": {},
   "outputs": [
    {
     "name": "stdout",
     "output_type": "stream",
     "text": [
      "(1500, 2)\n",
      "(1200, 2)\n",
      "(300, 2)\n"
     ]
    }
   ],
   "source": [
    "print(X.shape)\n",
    "print(X_train.shape)\n",
    "print(X_test.shape)"
   ]
  },
  {
   "cell_type": "markdown",
   "metadata": {},
   "source": [
    "# Build and train model"
   ]
  },
  {
   "cell_type": "code",
   "execution_count": 25,
   "metadata": {},
   "outputs": [],
   "source": [
    "from sklearn.neighbors import KNeighborsClassifier"
   ]
  },
  {
   "cell_type": "code",
   "execution_count": 26,
   "metadata": {},
   "outputs": [],
   "source": [
    "model = KNeighborsClassifier(n_neighbors=2)"
   ]
  },
  {
   "cell_type": "code",
   "execution_count": 27,
   "metadata": {},
   "outputs": [
    {
     "data": {
      "text/plain": [
       "KNeighborsClassifier(algorithm='auto', leaf_size=30, metric='minkowski',\n",
       "           metric_params=None, n_jobs=None, n_neighbors=2, p=2,\n",
       "           weights='uniform')"
      ]
     },
     "execution_count": 27,
     "metadata": {},
     "output_type": "execute_result"
    }
   ],
   "source": [
    "model.fit(X_train, y_train) "
   ]
  },
  {
   "cell_type": "code",
   "execution_count": 28,
   "metadata": {},
   "outputs": [
    {
     "name": "stdout",
     "output_type": "stream",
     "text": [
      "2\n",
      "['man' 'woman']\n"
     ]
    }
   ],
   "source": [
    "print(model.n_neighbors)\n",
    "print(model.classes_)"
   ]
  },
  {
   "cell_type": "markdown",
   "metadata": {},
   "source": [
    "# Make predictions"
   ]
  },
  {
   "cell_type": "code",
   "execution_count": 29,
   "metadata": {},
   "outputs": [
    {
     "name": "stdout",
     "output_type": "stream",
     "text": [
      "['woman']\n"
     ]
    }
   ],
   "source": [
    "prediction = model.predict([[58, 1.6]]) # [81, 1.81]\n",
    "print(prediction)"
   ]
  },
  {
   "cell_type": "code",
   "execution_count": 30,
   "metadata": {},
   "outputs": [
    {
     "name": "stdout",
     "output_type": "stream",
     "text": [
      "[[0. 1.]]\n"
     ]
    }
   ],
   "source": [
    "prediction_probability = model.predict_proba([[80, 1.7]])\n",
    "print(prediction_probability)"
   ]
  },
  {
   "cell_type": "code",
   "execution_count": 31,
   "metadata": {},
   "outputs": [],
   "source": [
    "y_pred = model.predict(X_test)"
   ]
  },
  {
   "cell_type": "code",
   "execution_count": 32,
   "metadata": {},
   "outputs": [
    {
     "data": {
      "text/plain": [
       "array(['man', 'woman', 'man', 'man', 'man', 'man', 'man', 'man', 'man',\n",
       "       'man', 'man', 'man', 'woman', 'woman', 'woman', 'woman', 'man',\n",
       "       'woman', 'man', 'man', 'man', 'woman', 'woman', 'woman', 'man',\n",
       "       'man', 'woman', 'man', 'man', 'woman', 'woman', 'woman', 'woman',\n",
       "       'man', 'woman', 'man', 'woman', 'man', 'woman', 'man', 'man',\n",
       "       'woman', 'man', 'man', 'man', 'man', 'man', 'woman', 'man', 'man',\n",
       "       'man', 'woman', 'woman', 'woman', 'woman', 'man', 'woman', 'man',\n",
       "       'man', 'man', 'man', 'woman', 'man', 'man', 'man', 'woman',\n",
       "       'woman', 'man', 'man', 'woman', 'man', 'man', 'man', 'man',\n",
       "       'woman', 'woman', 'man', 'woman', 'man', 'man', 'woman', 'man',\n",
       "       'woman', 'man', 'man', 'woman', 'woman', 'woman', 'man', 'man',\n",
       "       'man', 'man', 'woman', 'woman', 'man', 'man', 'man', 'man',\n",
       "       'woman', 'woman', 'man', 'man', 'woman', 'woman', 'man', 'man',\n",
       "       'man', 'woman', 'man', 'woman', 'woman', 'man', 'woman', 'woman',\n",
       "       'man', 'man', 'woman', 'woman', 'woman', 'man', 'man', 'man',\n",
       "       'woman', 'man', 'man', 'man', 'man', 'man', 'man', 'man', 'man',\n",
       "       'woman', 'man', 'woman', 'woman', 'man', 'woman', 'woman', 'woman',\n",
       "       'woman', 'man', 'man', 'woman', 'woman', 'man', 'woman', 'man',\n",
       "       'man', 'man', 'man', 'man', 'man', 'man', 'man', 'man', 'man',\n",
       "       'woman', 'man', 'man', 'man', 'woman', 'woman', 'woman', 'woman',\n",
       "       'man', 'man', 'woman', 'man', 'man', 'man', 'man', 'man', 'man',\n",
       "       'man', 'man', 'woman', 'man', 'man', 'man', 'man', 'man', 'woman',\n",
       "       'woman', 'woman', 'woman', 'man', 'man', 'woman', 'man', 'man',\n",
       "       'man', 'man', 'woman', 'man', 'woman', 'man', 'man', 'man',\n",
       "       'woman', 'woman', 'man', 'man', 'woman', 'woman', 'man', 'man',\n",
       "       'man', 'woman', 'man', 'man', 'man', 'woman', 'woman', 'man',\n",
       "       'man', 'man', 'woman', 'man', 'woman', 'man', 'man', 'man', 'man',\n",
       "       'man', 'man', 'woman', 'woman', 'woman', 'woman', 'woman', 'woman',\n",
       "       'man', 'man', 'man', 'woman', 'woman', 'man', 'man', 'man',\n",
       "       'woman', 'woman', 'woman', 'woman', 'man', 'man', 'man', 'woman',\n",
       "       'woman', 'man', 'woman', 'woman', 'man', 'woman', 'woman', 'man',\n",
       "       'woman', 'man', 'man', 'man', 'woman', 'man', 'man', 'woman',\n",
       "       'man', 'man', 'man', 'man', 'man', 'woman', 'man', 'woman', 'man',\n",
       "       'man', 'man', 'woman', 'woman', 'woman', 'woman', 'man', 'man',\n",
       "       'woman', 'man', 'man', 'man', 'man', 'woman', 'woman', 'woman',\n",
       "       'woman', 'man', 'woman', 'woman', 'woman', 'man', 'man', 'man',\n",
       "       'man', 'woman', 'woman', 'man'], dtype=object)"
      ]
     },
     "execution_count": 32,
     "metadata": {},
     "output_type": "execute_result"
    }
   ],
   "source": [
    "y_pred"
   ]
  },
  {
   "cell_type": "markdown",
   "metadata": {},
   "source": [
    "# Performance metrics"
   ]
  },
  {
   "cell_type": "code",
   "execution_count": 33,
   "metadata": {},
   "outputs": [],
   "source": [
    "from sklearn.metrics import confusion_matrix, accuracy_score, precision_score, recall_score, classification_report"
   ]
  },
  {
   "cell_type": "code",
   "execution_count": 34,
   "metadata": {},
   "outputs": [
    {
     "name": "stdout",
     "output_type": "stream",
     "text": [
      "['man' 'woman' 'man' 'man' 'man' 'man' 'man' 'man' 'man' 'man']\n",
      "['man' 'woman' 'man' 'man' 'man' 'man' 'man' 'man' 'man' 'man']\n"
     ]
    }
   ],
   "source": [
    "print(y_test[:10])\n",
    "print(y_pred[:10])"
   ]
  },
  {
   "cell_type": "code",
   "execution_count": 35,
   "metadata": {},
   "outputs": [
    {
     "data": {
      "text/plain": [
       "array([[164,   6],\n",
       "       [ 15, 115]])"
      ]
     },
     "execution_count": 35,
     "metadata": {},
     "output_type": "execute_result"
    }
   ],
   "source": [
    "confusion_matrix(y_test, y_pred)"
   ]
  },
  {
   "cell_type": "code",
   "execution_count": 36,
   "metadata": {},
   "outputs": [],
   "source": [
    "import matplotlib\n",
    "import matplotlib.pyplot as plt\n",
    "import itertools\n",
    "\n",
    "def plot_confusion_matrix(cm, classes,\n",
    "                          normalize=False,\n",
    "                          title='Confusion matrix',\n",
    "                          cmap=plt.cm.Blues):\n",
    "    \"\"\"\n",
    "    This function prints and plots the confusion matrix.\n",
    "    Normalization can be applied by setting `normalize=True`.\n",
    "    \"\"\"\n",
    "    if normalize:\n",
    "        cm = cm.astype('float') / cm.sum(axis=1)[:, np.newaxis]\n",
    "        print(\"Normalized confusion matrix\")\n",
    "    else:\n",
    "        print('Confusion matrix, without normalization')\n",
    "\n",
    "    #print(cm)\n",
    "    plt.figure(figsize=(8, 8))\n",
    "    cmap = matplotlib.colors.LinearSegmentedColormap.from_list('some_name', ['#ffffff', '#35af5d'], N=256, gamma=1.0)\n",
    "    plt.imshow(cm, interpolation='nearest', cmap=cmap)\n",
    "    plt.title(title)\n",
    "    plt.colorbar()\n",
    "    tick_marks = np.arange(len(classes))\n",
    "    plt.xticks(tick_marks, classes, rotation=90)\n",
    "    plt.yticks(tick_marks, classes)\n",
    "\n",
    "    fmt = '.2f' if normalize else 'd'\n",
    "    #thresh = max(cm.max() / 2., 0)\n",
    "    thresh = 1\n",
    "    for i, j in itertools.product(range(cm.shape[0]), range(cm.shape[1])):\n",
    "        if cm[i, j] > thresh:\n",
    "            plt.text(j, i, format(cm[i, j], fmt),\n",
    "                     horizontalalignment=\"center\",\n",
    "                     verticalalignment=\"center\",\n",
    "                     color=\"black\",\n",
    "                     fontsize=12)\n",
    "\n",
    "    plt.tight_layout()\n",
    "    plt.ylabel('True label')\n",
    "    plt.xlabel('Predicted label')"
   ]
  },
  {
   "cell_type": "code",
   "execution_count": 37,
   "metadata": {},
   "outputs": [
    {
     "name": "stdout",
     "output_type": "stream",
     "text": [
      "Confusion matrix, without normalization\n"
     ]
    },
    {
     "data": {
      "image/png": "[encoded data removed]",
      "text/plain": [
       "<Figure size 576x576 with 2 Axes>"
      ]
     },
     "metadata": {
      "needs_background": "light"
     },
     "output_type": "display_data"
    }
   ],
   "source": [
    "plot_confusion_matrix(confusion_matrix(y_test, y_pred), ['No', 'Yes'])"
   ]
  },
  {
   "cell_type": "code",
   "execution_count": 38,
   "metadata": {},
   "outputs": [
    {
     "data": {
      "text/plain": [
       "0.93"
      ]
     },
     "execution_count": 38,
     "metadata": {},
     "output_type": "execute_result"
    }
   ],
   "source": [
    "accuracy_score(y_test, y_pred)\n",
    "\n",
    "# sum(y_test == y_pred) / len(y_test)"
   ]
  },
  {
   "cell_type": "code",
   "execution_count": 39,
   "metadata": {},
   "outputs": [
    {
     "data": {
      "text/plain": [
       "0.9504132231404959"
      ]
     },
     "execution_count": 39,
     "metadata": {},
     "output_type": "execute_result"
    }
   ],
   "source": [
    "precision_score(y_test, y_pred, pos_label='woman')\n",
    "\n",
    "# tp / (tp + fp)"
   ]
  },
  {
   "cell_type": "code",
   "execution_count": 40,
   "metadata": {},
   "outputs": [
    {
     "data": {
      "text/plain": [
       "0.8846153846153846"
      ]
     },
     "execution_count": 40,
     "metadata": {},
     "output_type": "execute_result"
    }
   ],
   "source": [
    "recall_score(y_test, y_pred, pos_label='woman')\n",
    "\n",
    "# tp / (tp + fn)"
   ]
  },
  {
   "cell_type": "code",
   "execution_count": 41,
   "metadata": {},
   "outputs": [
    {
     "name": "stdout",
     "output_type": "stream",
     "text": [
      "              precision    recall  f1-score   support\n",
      "\n",
      "         man       0.92      0.96      0.94       170\n",
      "       woman       0.95      0.88      0.92       130\n",
      "\n",
      "   micro avg       0.93      0.93      0.93       300\n",
      "   macro avg       0.93      0.92      0.93       300\n",
      "weighted avg       0.93      0.93      0.93       300\n",
      "\n"
     ]
    }
   ],
   "source": [
    "print(classification_report(y_test, y_pred))"
   ]
  },
  {
   "cell_type": "markdown",
   "metadata": {},
   "source": [
    "# Visualize"
   ]
  },
  {
   "cell_type": "code",
   "execution_count": 42,
   "metadata": {},
   "outputs": [
    {
     "data": {
      "text/plain": [
       "array([[94.6 ,  1.9 ],\n",
       "       [72.1 ,  1.75],\n",
       "       [88.8 ,  1.7 ],\n",
       "       [89.6 ,  1.86],\n",
       "       [84.2 ,  1.96],\n",
       "       [92.6 ,  1.89],\n",
       "       [89.2 ,  1.65],\n",
       "       [87.4 ,  1.63],\n",
       "       [89.1 ,  1.78],\n",
       "       [88.5 ,  1.86]])"
      ]
     },
     "execution_count": 42,
     "metadata": {},
     "output_type": "execute_result"
    }
   ],
   "source": [
    "X_test[:10]"
   ]
  },
  {
   "cell_type": "code",
   "execution_count": 43,
   "metadata": {},
   "outputs": [
    {
     "data": {
      "text/plain": [
       "array(['man', 'woman', 'man', 'man', 'man', 'man', 'man', 'man', 'man',\n",
       "       'man'], dtype=object)"
      ]
     },
     "execution_count": 43,
     "metadata": {},
     "output_type": "execute_result"
    }
   ],
   "source": [
    "y_test[:10]"
   ]
  },
  {
   "cell_type": "code",
   "execution_count": 44,
   "metadata": {},
   "outputs": [
    {
     "data": {
      "text/html": [
       "<div>\n",
       "<style scoped>\n",
       "    .dataframe tbody tr th:only-of-type {\n",
       "        vertical-align: middle;\n",
       "    }\n",
       "\n",
       "    .dataframe tbody tr th {\n",
       "        vertical-align: top;\n",
       "    }\n",
       "\n",
       "    .dataframe thead th {\n",
       "        text-align: right;\n",
       "    }\n",
       "</style>\n",
       "<table border=\"1\" class=\"dataframe\">\n",
       "  <thead>\n",
       "    <tr style=\"text-align: right;\">\n",
       "      <th></th>\n",
       "      <th>weight</th>\n",
       "      <th>height</th>\n",
       "    </tr>\n",
       "  </thead>\n",
       "  <tbody>\n",
       "    <tr>\n",
       "      <th>0</th>\n",
       "      <td>82.1</td>\n",
       "      <td>1.80</td>\n",
       "    </tr>\n",
       "    <tr>\n",
       "      <th>1</th>\n",
       "      <td>61.6</td>\n",
       "      <td>1.58</td>\n",
       "    </tr>\n",
       "    <tr>\n",
       "      <th>2</th>\n",
       "      <td>73.7</td>\n",
       "      <td>1.66</td>\n",
       "    </tr>\n",
       "    <tr>\n",
       "      <th>3</th>\n",
       "      <td>74.2</td>\n",
       "      <td>1.71</td>\n",
       "    </tr>\n",
       "    <tr>\n",
       "      <th>4</th>\n",
       "      <td>83.8</td>\n",
       "      <td>1.91</td>\n",
       "    </tr>\n",
       "  </tbody>\n",
       "</table>\n",
       "</div>"
      ],
      "text/plain": [
       "   weight  height\n",
       "0    82.1    1.80\n",
       "1    61.6    1.58\n",
       "2    73.7    1.66\n",
       "3    74.2    1.71\n",
       "4    83.8    1.91"
      ]
     },
     "execution_count": 44,
     "metadata": {},
     "output_type": "execute_result"
    }
   ],
   "source": [
    "df[['weight', 'height']].head(5)"
   ]
  },
  {
   "cell_type": "code",
   "execution_count": 45,
   "metadata": {},
   "outputs": [],
   "source": [
    "weights = X_test[:,0]\n",
    "\n",
    "heights = X_test[:,1]"
   ]
  },
  {
   "cell_type": "code",
   "execution_count": 46,
   "metadata": {},
   "outputs": [
    {
     "data": {
      "image/png": "[encoded data removed]",
      "text/plain": [
       "<Figure size 576x576 with 1 Axes>"
      ]
     },
     "metadata": {
      "needs_background": "light"
     },
     "output_type": "display_data"
    }
   ],
   "source": [
    "import matplotlib.pyplot as plt\n",
    "\n",
    "plt.figure(figsize=(8,8))\n",
    "plt.scatter(weights, heights, c='k', marker='.')\n",
    "plt.axis([40, 110, 1.4, 2.2])\n",
    "plt.xlabel('weight')\n",
    "plt.ylabel('height')\n",
    "plt.title('Hvordan er data fordelt?')\n",
    "plt.show()"
   ]
  },
  {
   "cell_type": "code",
   "execution_count": 47,
   "metadata": {},
   "outputs": [],
   "source": [
    "# y_test == 'woman'"
   ]
  },
  {
   "cell_type": "code",
   "execution_count": 48,
   "metadata": {},
   "outputs": [],
   "source": [
    "color_true = np.where(y_test == 'woman', 'b', 'r')\n",
    "color_pred = np.where(y_pred == 'woman', 'c', 'm')"
   ]
  },
  {
   "cell_type": "code",
   "execution_count": 49,
   "metadata": {},
   "outputs": [
    {
     "data": {
      "image/png": "[encoded data removed]",
      "text/plain": [
       "<Figure size 576x576 with 1 Axes>"
      ]
     },
     "metadata": {
      "needs_background": "light"
     },
     "output_type": "display_data"
    }
   ],
   "source": [
    "plt.figure(figsize=(8,8))\n",
    "plt.scatter(weights, heights, c=color_true, marker='.')\n",
    "plt.axis([40, 110, 1.4, 2.2])\n",
    "plt.xlabel('weight')\n",
    "plt.ylabel('height')\n",
    "plt.title('Hvordan er data fordelt?')\n",
    "plt.show()"
   ]
  },
  {
   "cell_type": "code",
   "execution_count": 50,
   "metadata": {},
   "outputs": [
    {
     "data": {
      "image/png": "[encoded data removed]",
      "text/plain": [
       "<Figure size 576x576 with 1 Axes>"
      ]
     },
     "metadata": {
      "needs_background": "light"
     },
     "output_type": "display_data"
    }
   ],
   "source": [
    "plt.figure(figsize=(8,8))\n",
    "plt.scatter(weights, heights, c=color_pred, marker='.')\n",
    "plt.axis([40, 110, 1.4, 2.2])\n",
    "plt.xlabel('weight')\n",
    "plt.ylabel('height')\n",
    "plt.title('Hvordan er data fordelt?')\n",
    "plt.show()"
   ]
  },
  {
   "cell_type": "markdown",
   "metadata": {},
   "source": [
    "# Øvelser - Fine tune model"
   ]
  },
  {
   "cell_type": "markdown",
   "metadata": {},
   "source": [
    "- Prøv at træne modellen med forskellige antal naboer ($n$-værdier) og se hvordan det påvirker performance metrics.\n",
    "- Prøv at tilføje en ny kolonne til træningsdata. Dvs. tilføj også ```salary``` til $X$ og træn modellen igen. Se hvordan det påvirker performance metrics.\n",
    "- Importer en anden klassifikationsmodel og lav prædiktioner med denne på samme måde som overstående. Brug logistisk regression fra scikit learn.\n",
    "  \n",
    "  ```from sklearn.linear_model import LogisticRegression```"
   ]
  },
  {
   "cell_type": "code",
   "execution_count": null,
   "metadata": {},
   "outputs": [],
   "source": []
  }
 ],
 "metadata": {
  "kernelspec": {
   "display_name": "Intro ML",
   "language": "python",
   "name": "intro_ml"
  },
  "language_info": {
   "codemirror_mode": {
    "name": "ipython",
    "version": 3
   },
   "file_extension": ".py",
   "mimetype": "text/x-python",
   "name": "python",
   "nbconvert_exporter": "python",
   "pygments_lexer": "ipython3",
   "version": "3.7.0"
  }
 },
 "nbformat": 4,
 "nbformat_minor": 2
}
